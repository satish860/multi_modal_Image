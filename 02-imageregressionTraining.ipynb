{
 "cells": [
  {
   "cell_type": "code",
   "execution_count": 1,
   "id": "ea668dba-5508-41bf-ab90-cc2208055756",
   "metadata": {},
   "outputs": [],
   "source": [
    "from fastai.vision.all import *"
   ]
  },
  {
   "cell_type": "code",
   "execution_count": 2,
   "id": "9d74cc85-f562-4ba8-99f6-edcf490321e2",
   "metadata": {},
   "outputs": [],
   "source": [
    "import pandas as pd"
   ]
  },
  {
   "cell_type": "code",
   "execution_count": 3,
   "id": "e0a9fe38-bb85-4d98-a1dc-4345b8d80e29",
   "metadata": {},
   "outputs": [],
   "source": [
    "df = pd.read_csv('subset.csv')"
   ]
  },
  {
   "cell_type": "code",
   "execution_count": 4,
   "id": "546b5eab-5ffc-453d-8c95-46279a4da443",
   "metadata": {},
   "outputs": [],
   "source": [
    "def get_caption_embedding(caption_embedding):\n",
    "    value=caption_embedding.split(',')\n",
    "    value.pop(0)\n",
    "    embedding_val = [float(i) for i in value]\n",
    "    return embedding_val"
   ]
  },
  {
   "cell_type": "code",
   "execution_count": 5,
   "id": "4cadf393-d37a-425c-b526-5ea33de48681",
   "metadata": {},
   "outputs": [],
   "source": [
    "def get_x(r): return r['img']\n",
    "def get_y(r): return get_caption_embedding(r['caption_embedding'])"
   ]
  },
  {
   "cell_type": "code",
   "execution_count": 6,
   "id": "ccf039f7-810a-421a-94ba-6ce91bc6e10a",
   "metadata": {},
   "outputs": [],
   "source": [
    "dblocks = DataBlock((ImageBlock,RegressionBlock),\n",
    "                       get_x= get_x,\n",
    "                       get_y = get_y,\n",
    "                       batch_tfms=[*aug_transforms(size=(240,320)),Normalize.from_stats(*imagenet_stats)])\n",
    "dls=dblocks.dataloaders(df)"
   ]
  },
  {
   "cell_type": "code",
   "execution_count": 7,
   "id": "5f6c9129-37c4-4dab-8d39-973e9f75f39d",
   "metadata": {},
   "outputs": [],
   "source": [
    "learn = cnn_learner(dls, resnet18, y_range=(0,1),metrics=accuracy_multi)"
   ]
  },
  {
   "cell_type": "code",
   "execution_count": 8,
   "id": "e35c280b-647e-4371-8548-fc6130e7adcd",
   "metadata": {},
   "outputs": [
    {
     "data": {
      "text/html": [],
      "text/plain": [
       "<IPython.core.display.HTML object>"
      ]
     },
     "metadata": {},
     "output_type": "display_data"
    },
    {
     "data": {
      "text/plain": [
       "SuggestedLRs(lr_min=0.03630780577659607, lr_steep=0.03981071710586548)"
      ]
     },
     "execution_count": 8,
     "metadata": {},
     "output_type": "execute_result"
    },
    {
     "data": {
      "image/png": "[encoded data removed]",
      "text/plain": [
       "<Figure size 432x288 with 1 Axes>"
      ]
     },
     "metadata": {
      "needs_background": "light"
     },
     "output_type": "display_data"
    }
   ],
   "source": [
    "learn.lr_find()"
   ]
  },
  {
   "cell_type": "code",
   "execution_count": 9,
   "id": "3078d882-ff4e-4f1d-ba05-d311aa0fc881",
   "metadata": {},
   "outputs": [
    {
     "data": {
      "text/html": [
       "<table border=\"1\" class=\"dataframe\">\n",
       "  <thead>\n",
       "    <tr style=\"text-align: left;\">\n",
       "      <th>epoch</th>\n",
       "      <th>train_loss</th>\n",
       "      <th>valid_loss</th>\n",
       "      <th>accuracy_multi</th>\n",
       "      <th>time</th>\n",
       "    </tr>\n",
       "  </thead>\n",
       "  <tbody>\n",
       "    <tr>\n",
       "      <td>0</td>\n",
       "      <td>0.094122</td>\n",
       "      <td>0.035328</td>\n",
       "      <td>0.989192</td>\n",
       "      <td>00:14</td>\n",
       "    </tr>\n",
       "  </tbody>\n",
       "</table>"
      ],
      "text/plain": [
       "<IPython.core.display.HTML object>"
      ]
     },
     "metadata": {},
     "output_type": "display_data"
    },
    {
     "data": {
      "text/html": [
       "<table border=\"1\" class=\"dataframe\">\n",
       "  <thead>\n",
       "    <tr style=\"text-align: left;\">\n",
       "      <th>epoch</th>\n",
       "      <th>train_loss</th>\n",
       "      <th>valid_loss</th>\n",
       "      <th>accuracy_multi</th>\n",
       "      <th>time</th>\n",
       "    </tr>\n",
       "  </thead>\n",
       "  <tbody>\n",
       "    <tr>\n",
       "      <td>0</td>\n",
       "      <td>0.036842</td>\n",
       "      <td>0.024715</td>\n",
       "      <td>0.989148</td>\n",
       "      <td>00:18</td>\n",
       "    </tr>\n",
       "    <tr>\n",
       "      <td>1</td>\n",
       "      <td>0.029151</td>\n",
       "      <td>0.024097</td>\n",
       "      <td>0.988948</td>\n",
       "      <td>00:17</td>\n",
       "    </tr>\n",
       "    <tr>\n",
       "      <td>2</td>\n",
       "      <td>0.026789</td>\n",
       "      <td>0.023498</td>\n",
       "      <td>0.988988</td>\n",
       "      <td>00:17</td>\n",
       "    </tr>\n",
       "  </tbody>\n",
       "</table>"
      ],
      "text/plain": [
       "<IPython.core.display.HTML object>"
      ]
     },
     "metadata": {},
     "output_type": "display_data"
    }
   ],
   "source": [
    "lr = 3e-3\n",
    "learn.fine_tune(3, lr)"
   ]
  },
  {
   "cell_type": "code",
   "execution_count": 10,
   "id": "ab0b75eb-217b-4fdc-902b-ec9755270a8d",
   "metadata": {},
   "outputs": [],
   "source": [
    "val_csv=pd.read_csv('val.csv')"
   ]
  },
  {
   "cell_type": "code",
   "execution_count": 11,
   "id": "a342d387-43ff-4d4f-8f71-6d7ac8938b9a",
   "metadata": {},
   "outputs": [],
   "source": [
    "test_dl = dls.test_dl(val_csv,with_labels=True)"
   ]
  },
  {
   "cell_type": "code",
   "execution_count": 12,
   "id": "b226e50d-3692-4d68-b4b8-c73bcfdf6de8",
   "metadata": {},
   "outputs": [
    {
     "data": {
      "text/html": [],
      "text/plain": [
       "<IPython.core.display.HTML object>"
      ]
     },
     "metadata": {},
     "output_type": "display_data"
    },
    {
     "data": {
      "text/html": [],
      "text/plain": [
       "<IPython.core.display.HTML object>"
      ]
     },
     "metadata": {},
     "output_type": "display_data"
    },
    {
     "data": {
      "text/plain": [
       "(#2) [0.02326110377907753,0.9885242581367493]"
      ]
     },
     "execution_count": 12,
     "metadata": {},
     "output_type": "execute_result"
    }
   ],
   "source": [
    "preds = learn.get_preds(dl=test_dl)\n",
    "learn.validate(dl=test_dl)"
   ]
  },
  {
   "cell_type": "code",
   "execution_count": 40,
   "id": "9ee586f1-44ee-4f7c-8fd6-cc89f9af4b53",
   "metadata": {},
   "outputs": [],
   "source": [
    "img_embedding=np.array(preds[0].cpu())"
   ]
  },
  {
   "cell_type": "code",
   "execution_count": 43,
   "id": "13a5c3ee-3815-45aa-abec-40141b2f0f45",
   "metadata": {},
   "outputs": [
    {
     "name": "stdout",
     "output_type": "stream",
     "text": [
      "0\n"
     ]
    }
   ],
   "source": [
    "for batch_idx, img_embedding in enumerate(preds[0]):\n",
    "    print(batch_idx)   "
   ]
  },
  {
   "cell_type": "code",
   "execution_count": null,
   "id": "ccc7adfd-cbc4-425a-b621-9c514df6d9d1",
   "metadata": {},
   "outputs": [],
   "source": []
  }
 ],
 "metadata": {
  "kernelspec": {
   "display_name": "Python 3",
   "language": "python",
   "name": "python3"
  },
  "language_info": {
   "codemirror_mode": {
    "name": "ipython",
    "version": 3
   },
   "file_extension": ".py",
   "mimetype": "text/x-python",
   "name": "python",
   "nbconvert_exporter": "python",
   "pygments_lexer": "ipython3",
   "version": "3.8.5"
  }
 },
 "nbformat": 4,
 "nbformat_minor": 5
}
