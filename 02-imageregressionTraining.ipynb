{
 "cells": [
  {
   "cell_type": "code",
   "execution_count": 1,
   "id": "ea668dba-5508-41bf-ab90-cc2208055756",
   "metadata": {},
   "outputs": [],
   "source": [
    "from fastai.vision.all import *"
   ]
  },
  {
   "cell_type": "code",
   "execution_count": 2,
   "id": "9d74cc85-f562-4ba8-99f6-edcf490321e2",
   "metadata": {},
   "outputs": [],
   "source": [
    "import pandas as pd"
   ]
  },
  {
   "cell_type": "code",
   "execution_count": 3,
   "id": "e0a9fe38-bb85-4d98-a1dc-4345b8d80e29",
   "metadata": {},
   "outputs": [],
   "source": [
    "df = pd.read_csv('subset.csv')"
   ]
  },
  {
   "cell_type": "code",
   "execution_count": 4,
   "id": "546b5eab-5ffc-453d-8c95-46279a4da443",
   "metadata": {},
   "outputs": [],
   "source": [
    "def get_caption_embedding(caption_embedding):\n",
    "    value=caption_embedding.split(',')\n",
    "    value.pop(0)\n",
    "    embedding_val = [float(i) for i in value]\n",
    "    return embedding_val"
   ]
  },
  {
   "cell_type": "code",
   "execution_count": 5,
   "id": "4cadf393-d37a-425c-b526-5ea33de48681",
   "metadata": {},
   "outputs": [],
   "source": [
    "def get_x(r): return r['img']\n",
    "def get_y(r): return get_caption_embedding(r['caption_embedding'])"
   ]
  },
  {
   "cell_type": "code",
   "execution_count": 6,
   "id": "ccf039f7-810a-421a-94ba-6ce91bc6e10a",
   "metadata": {},
   "outputs": [],
   "source": [
    "dblocks = DataBlock((ImageBlock,RegressionBlock),\n",
    "                       get_x= get_x,\n",
    "                       get_y = get_y,\n",
    "                       batch_tfms=[*aug_transforms(size=(240,320)),Normalize.from_stats(*imagenet_stats)])\n",
    "dls=dblocks.dataloaders(df)"
   ]
  },
  {
   "cell_type": "code",
   "execution_count": 12,
   "id": "3ee51475-8409-4165-a5b6-d32a6bd5938d",
   "metadata": {},
   "outputs": [],
   "source": [
    "def cos_loss(preds, target):\n",
    "    return 1 - F.cosine_similarity(preds, target).mean()"
   ]
  },
  {
   "cell_type": "code",
   "execution_count": 13,
   "id": "5f6c9129-37c4-4dab-8d39-973e9f75f39d",
   "metadata": {},
   "outputs": [],
   "source": [
    "learn = cnn_learner(dls, resnet18, y_range=(0,1),metrics=accuracy_multi,loss_func=cos_loss)"
   ]
  },
  {
   "cell_type": "code",
   "execution_count": 14,
   "id": "e35c280b-647e-4371-8548-fc6130e7adcd",
   "metadata": {},
   "outputs": [
    {
     "data": {
      "text/html": [],
      "text/plain": [
       "<IPython.core.display.HTML object>"
      ]
     },
     "metadata": {},
     "output_type": "display_data"
    },
    {
     "data": {
      "text/plain": [
       "SuggestedLRs(lr_min=0.33113112449646, lr_steep=0.03981071710586548)"
      ]
     },
     "execution_count": 14,
     "metadata": {},
     "output_type": "execute_result"
    },
    {
     "data": {
      "image/png": "[encoded data removed]",
      "text/plain": [
       "<Figure size 432x288 with 1 Axes>"
      ]
     },
     "metadata": {
      "needs_background": "light"
     },
     "output_type": "display_data"
    }
   ],
   "source": [
    "learn.lr_find()"
   ]
  },
  {
   "cell_type": "code",
   "execution_count": 15,
   "id": "3078d882-ff4e-4f1d-ba05-d311aa0fc881",
   "metadata": {},
   "outputs": [
    {
     "data": {
      "text/html": [
       "<table border=\"1\" class=\"dataframe\">\n",
       "  <thead>\n",
       "    <tr style=\"text-align: left;\">\n",
       "      <th>epoch</th>\n",
       "      <th>train_loss</th>\n",
       "      <th>valid_loss</th>\n",
       "      <th>accuracy_multi</th>\n",
       "      <th>time</th>\n",
       "    </tr>\n",
       "  </thead>\n",
       "  <tbody>\n",
       "    <tr>\n",
       "      <td>0</td>\n",
       "      <td>0.064853</td>\n",
       "      <td>0.051035</td>\n",
       "      <td>0.990437</td>\n",
       "      <td>00:15</td>\n",
       "    </tr>\n",
       "  </tbody>\n",
       "</table>"
      ],
      "text/plain": [
       "<IPython.core.display.HTML object>"
      ]
     },
     "metadata": {},
     "output_type": "display_data"
    },
    {
     "data": {
      "text/html": [
       "<table border=\"1\" class=\"dataframe\">\n",
       "  <thead>\n",
       "    <tr style=\"text-align: left;\">\n",
       "      <th>epoch</th>\n",
       "      <th>train_loss</th>\n",
       "      <th>valid_loss</th>\n",
       "      <th>accuracy_multi</th>\n",
       "      <th>time</th>\n",
       "    </tr>\n",
       "  </thead>\n",
       "  <tbody>\n",
       "    <tr>\n",
       "      <td>0</td>\n",
       "      <td>0.043189</td>\n",
       "      <td>0.041560</td>\n",
       "      <td>0.990437</td>\n",
       "      <td>00:18</td>\n",
       "    </tr>\n",
       "    <tr>\n",
       "      <td>1</td>\n",
       "      <td>0.042664</td>\n",
       "      <td>0.040314</td>\n",
       "      <td>0.990437</td>\n",
       "      <td>00:18</td>\n",
       "    </tr>\n",
       "    <tr>\n",
       "      <td>2</td>\n",
       "      <td>0.040810</td>\n",
       "      <td>0.040005</td>\n",
       "      <td>0.990437</td>\n",
       "      <td>00:18</td>\n",
       "    </tr>\n",
       "  </tbody>\n",
       "</table>"
      ],
      "text/plain": [
       "<IPython.core.display.HTML object>"
      ]
     },
     "metadata": {},
     "output_type": "display_data"
    }
   ],
   "source": [
    "lr = 1e-1\n",
    "learn.fine_tune(3, lr)"
   ]
  },
  {
   "cell_type": "markdown",
   "id": "2ddb39a5-ecee-4e8f-9d50-41d3e8b09214",
   "metadata": {},
   "source": [
    "# Lets run the evalution on all the dataset and store it in Annoy Index"
   ]
  },
  {
   "cell_type": "code",
   "execution_count": 46,
   "id": "ab0b75eb-217b-4fdc-902b-ec9755270a8d",
   "metadata": {},
   "outputs": [],
   "source": [
    "train_csv = pd.read_csv('train.csv')\n",
    "test_csv = pd.read_csv('test.csv')\n",
    "val_csv=pd.read_csv('val.csv')"
   ]
  },
  {
   "cell_type": "code",
   "execution_count": 47,
   "id": "03f67dfc-77ac-4f29-9fc8-3a1eb20a8f5e",
   "metadata": {},
   "outputs": [],
   "source": [
    "df = train_csv.append([test_csv, val_csv])"
   ]
  },
  {
   "cell_type": "code",
   "execution_count": 49,
   "id": "a342d387-43ff-4d4f-8f71-6d7ac8938b9a",
   "metadata": {},
   "outputs": [],
   "source": [
    "test_dl = dls.test_dl(df,with_labels=True)"
   ]
  },
  {
   "cell_type": "code",
   "execution_count": 50,
   "id": "b226e50d-3692-4d68-b4b8-c73bcfdf6de8",
   "metadata": {},
   "outputs": [
    {
     "data": {
      "text/html": [],
      "text/plain": [
       "<IPython.core.display.HTML object>"
      ]
     },
     "metadata": {},
     "output_type": "display_data"
    },
    {
     "data": {
      "text/html": [],
      "text/plain": [
       "<IPython.core.display.HTML object>"
      ]
     },
     "metadata": {},
     "output_type": "display_data"
    },
    {
     "data": {
      "text/plain": [
       "(#2) [0.04111364111304283,0.9880971312522888]"
      ]
     },
     "execution_count": 50,
     "metadata": {},
     "output_type": "execute_result"
    }
   ],
   "source": [
    "preds = learn.get_preds(dl=test_dl)\n",
    "learn.validate(dl=test_dl)"
   ]
  },
  {
   "cell_type": "code",
   "execution_count": 53,
   "id": "eeaeb0df-7245-46a6-b3b0-130c1ab92722",
   "metadata": {},
   "outputs": [],
   "source": [
    "from annoy import AnnoyIndex\n",
    "f = 300\n",
    "t = AnnoyIndex(f, 'angular')"
   ]
  },
  {
   "cell_type": "code",
   "execution_count": 54,
   "id": "13a5c3ee-3815-45aa-abec-40141b2f0f45",
   "metadata": {},
   "outputs": [],
   "source": [
    "image_2_id=[];\n",
    "for batch_idx, img_embedding in enumerate(preds[0]):\n",
    "    val=df.iloc[batch_idx]\n",
    "    image_2_id.append({'id':batch_idx,'img_path':val.img})\n",
    "    embedding = np.array(img_embedding.cpu())\n",
    "    t.add_item(batch_idx, embedding)"
   ]
  },
  {
   "cell_type": "code",
   "execution_count": 55,
   "id": "ccc7adfd-cbc4-425a-b621-9c514df6d9d1",
   "metadata": {},
   "outputs": [
    {
     "data": {
      "text/plain": [
       "True"
      ]
     },
     "execution_count": 55,
     "metadata": {},
     "output_type": "execute_result"
    }
   ],
   "source": [
    "t.build(10) # 10 trees\n",
    "t.save('image_em.ann')"
   ]
  },
  {
   "cell_type": "code",
   "execution_count": 56,
   "id": "ee876319-908b-445f-940d-7c6741307681",
   "metadata": {},
   "outputs": [
    {
     "name": "stdout",
     "output_type": "stream",
     "text": [
      "[0, 46170, 5224, 21996, 27149, 20767, 7928, 37472, 23300, 2072, 10436, 22751, 12979, 18899, 19527, 3432, 5944, 52221, 12849, 19831, 54857, 20902, 36111, 35433, 26374, 35436, 16014, 6159, 48668, 37164, 31872, 53907, 2365, 23853, 15568, 48586, 16500, 23220, 21612, 44516, 5000, 27251, 43325, 42667, 30157, 46499, 45248, 36556, 50838, 4719, 1564, 36789, 43954, 15168, 4766, 54188, 8960, 13847, 8658, 9012, 4534, 34695, 4979, 46003, 20450, 33078, 14319, 33883, 33604, 27102, 29371, 6217, 29241, 27630, 1074, 8985, 21461, 250, 33692, 34178, 53943, 32889, 23622, 59169, 47529, 53352, 25471, 25544, 43964, 42052, 11695, 7676, 1320, 24069, 9780, 19408, 44361, 54580, 55301, 15984]\n"
     ]
    }
   ],
   "source": [
    "u = AnnoyIndex(f, 'angular')\n",
    "u.load('test.ann') # super fast, will just mmap the file\n",
    "print(u.get_nns_by_item(0, 100))"
   ]
  },
  {
   "cell_type": "code",
   "execution_count": 57,
   "id": "366d96cc-f04b-4eb9-ad0d-b70338606a6c",
   "metadata": {},
   "outputs": [
    {
     "data": {
      "text/plain": [
       "1000000"
      ]
     },
     "execution_count": 57,
     "metadata": {},
     "output_type": "execute_result"
    }
   ],
   "source": [
    "len(image_2_id)"
   ]
  },
  {
   "cell_type": "code",
   "execution_count": 58,
   "id": "03da69d9-09fd-46e2-8cb2-bbbc4b8f8172",
   "metadata": {},
   "outputs": [],
   "source": [
    "val_index = pd.DataFrame(image_2_id)"
   ]
  },
  {
   "cell_type": "code",
   "execution_count": 59,
   "id": "82977e96-c32c-40c8-8d3d-28db831a2db3",
   "metadata": {},
   "outputs": [
    {
     "data": {
      "text/html": [
       "<div>\n",
       "<style scoped>\n",
       "    .dataframe tbody tr th:only-of-type {\n",
       "        vertical-align: middle;\n",
       "    }\n",
       "\n",
       "    .dataframe tbody tr th {\n",
       "        vertical-align: top;\n",
       "    }\n",
       "\n",
       "    .dataframe thead th {\n",
       "        text-align: right;\n",
       "    }\n",
       "</style>\n",
       "<table border=\"1\" class=\"dataframe\">\n",
       "  <thead>\n",
       "    <tr style=\"text-align: right;\">\n",
       "      <th></th>\n",
       "      <th>id</th>\n",
       "      <th>img_path</th>\n",
       "    </tr>\n",
       "  </thead>\n",
       "  <tbody>\n",
       "    <tr>\n",
       "      <th>0</th>\n",
       "      <td>0</td>\n",
       "      <td>img_resized_1M/cities_instagram/chicago/1482025253408147333.jpg</td>\n",
       "    </tr>\n",
       "    <tr>\n",
       "      <th>1</th>\n",
       "      <td>1</td>\n",
       "      <td>img_resized_1M/cities_instagram/miami/1489862958418184034.jpg</td>\n",
       "    </tr>\n",
       "    <tr>\n",
       "      <th>2</th>\n",
       "      <td>2</td>\n",
       "      <td>img_resized_1M/cities_instagram/london/1490670801451901341.jpg</td>\n",
       "    </tr>\n",
       "    <tr>\n",
       "      <th>3</th>\n",
       "      <td>3</td>\n",
       "      <td>img_resized_1M/cities_instagram/losangeles/1490593685564481529.jpg</td>\n",
       "    </tr>\n",
       "    <tr>\n",
       "      <th>4</th>\n",
       "      <td>4</td>\n",
       "      <td>img_resized_1M/cities_instagram/sydney/1480253413722844675.jpg</td>\n",
       "    </tr>\n",
       "  </tbody>\n",
       "</table>\n",
       "</div>"
      ],
      "text/plain": [
       "   id                                                            img_path\n",
       "0   0     img_resized_1M/cities_instagram/chicago/1482025253408147333.jpg\n",
       "1   1       img_resized_1M/cities_instagram/miami/1489862958418184034.jpg\n",
       "2   2      img_resized_1M/cities_instagram/london/1490670801451901341.jpg\n",
       "3   3  img_resized_1M/cities_instagram/losangeles/1490593685564481529.jpg\n",
       "4   4      img_resized_1M/cities_instagram/sydney/1480253413722844675.jpg"
      ]
     },
     "execution_count": 59,
     "metadata": {},
     "output_type": "execute_result"
    }
   ],
   "source": [
    "val_index.head()"
   ]
  },
  {
   "cell_type": "code",
   "execution_count": 60,
   "id": "b4f90002-a814-4d1e-b712-9502c29dcf43",
   "metadata": {},
   "outputs": [],
   "source": [
    "val_index.to_csv('id_2_img.csv')"
   ]
  },
  {
   "cell_type": "code",
   "execution_count": null,
   "id": "efc66f23-eeea-4676-ac3d-4b3cf0b1fdee",
   "metadata": {},
   "outputs": [],
   "source": [
    "lear"
   ]
  }
 ],
 "metadata": {
  "kernelspec": {
   "display_name": "Python 3",
   "language": "python",
   "name": "python3"
  },
  "language_info": {
   "codemirror_mode": {
    "name": "ipython",
    "version": 3
   },
   "file_extension": ".py",
   "mimetype": "text/x-python",
   "name": "python",
   "nbconvert_exporter": "python",
   "pygments_lexer": "ipython3",
   "version": "3.8.5"
  }
 },
 "nbformat": 4,
 "nbformat_minor": 5
}
