{
 "cells": [
  {
   "cell_type": "code",
   "execution_count": 1,
   "id": "eb2f9622-dfb1-4919-af97-3471a8a62de6",
   "metadata": {},
   "outputs": [],
   "source": [
    "import gensim.models"
   ]
  },
  {
   "cell_type": "code",
   "execution_count": 2,
   "id": "8b346699-ad94-4434-a2f5-d637ccdf5100",
   "metadata": {},
   "outputs": [],
   "source": [
    "model = gensim.models.Word2Vec.load('word2vec.fullmodel')"
   ]
  },
  {
   "cell_type": "code",
   "execution_count": 3,
   "id": "53ef8511-72c6-4de8-8e62-979c1ebaf408",
   "metadata": {},
   "outputs": [],
   "source": [
    "from gensim.parsing.preprocessing import remove_stopwords, preprocess_string,strip_non_alphanum,strip_numeric"
   ]
  },
  {
   "cell_type": "code",
   "execution_count": 4,
   "id": "d5231f5e-0a53-484d-8c47-95c12b3316fd",
   "metadata": {},
   "outputs": [],
   "source": [
    "line = 'sunrise'\n",
    "CUSTOM_FILTERS = [lambda x: x.lower(), remove_stopwords, strip_non_alphanum,strip_numeric]\n",
    "tokens=preprocess_string(line,CUSTOM_FILTERS)"
   ]
  },
  {
   "cell_type": "code",
   "execution_count": 32,
   "id": "b45a9676-faff-4c25-ab27-f905968249af",
   "metadata": {},
   "outputs": [],
   "source": [
    "embedding = np.zeros(300)"
   ]
  },
  {
   "cell_type": "code",
   "execution_count": 33,
   "id": "a25e91cd-3b8e-48b3-87e7-b2a39247a106",
   "metadata": {},
   "outputs": [],
   "source": [
    "token_embedding = model.wv[line]"
   ]
  },
  {
   "cell_type": "code",
   "execution_count": 35,
   "id": "533a87d9-595a-4763-a4d1-0a9e79257ded",
   "metadata": {},
   "outputs": [],
   "source": [
    "embedding += token_embedding"
   ]
  },
  {
   "cell_type": "code",
   "execution_count": 36,
   "id": "5b302c29-69eb-4d7c-a895-c91dbe2a9b34",
   "metadata": {},
   "outputs": [
    {
     "data": {
      "text/plain": [
       "array([1.91610236, 1.99547625, 3.07543814, 1.41993314, 2.80272293,\n",
       "       1.31729096, 2.40531722, 2.52206755, 3.17763007, 1.98387158,\n",
       "       3.38109469, 3.07185876, 3.36480391, 0.94307303, 1.28091168,\n",
       "       2.46250975, 2.49851814, 2.68798071, 3.29951   , 1.20444119,\n",
       "       3.57797539, 2.17420702, 3.1222589 , 1.13806826, 1.15195209,\n",
       "       1.36058742, 2.52572051, 0.9188813 , 2.27283914, 2.17750688,\n",
       "       0.91376936, 1.80523358, 1.8134609 , 1.30159003, 2.10449205,\n",
       "       4.0035243 , 3.44801712, 2.52062362, 1.35648167, 1.49158025,\n",
       "       2.64821458, 3.85328805, 1.46016413, 2.85866219, 2.1275573 ,\n",
       "       1.9717789 , 0.60989678, 2.18906622, 1.43269432, 2.97740501,\n",
       "       3.37919664, 2.58549178, 2.92129606, 2.16535423, 2.72164351,\n",
       "       2.51272893, 2.92486805, 3.82932115, 2.81666589, 2.5500645 ,\n",
       "       2.7869668 , 1.97152293, 2.03457235, 0.48502696, 2.36097062,\n",
       "       2.06411085, 1.48888701, 2.35551119, 1.01759923, 2.04641251,\n",
       "       1.64073372, 2.57379538, 0.48282886, 2.36348557, 0.99010777,\n",
       "       1.19294322, 1.93956885, 2.14923972, 1.45335042, 3.24711311,\n",
       "       1.05379057, 1.7877751 , 2.55963218, 2.5383164 , 2.2349319 ,\n",
       "       3.53921926, 1.48148024, 1.74435392, 1.51390409, 1.47753125,\n",
       "       3.0177955 , 3.9628129 , 0.89794517, 0.6066823 , 0.9087801 ,\n",
       "       1.60093424, 2.57548434, 1.96308558, 2.49723169, 1.54818204,\n",
       "       2.7375375 , 2.80828208, 2.02282351, 3.50093436, 1.33088595,\n",
       "       1.51575285, 2.52295658, 0.81093097, 2.48327759, 2.55086166,\n",
       "       2.92266446, 2.22901461, 2.31551787, 0.89448845, 1.70812398,\n",
       "       2.33563933, 2.38984048, 1.19360518, 2.42751873, 1.88903984,\n",
       "       1.54119837, 2.12412199, 2.88200581, 2.4578917 , 2.16797   ,\n",
       "       1.32493871, 1.84494646, 2.36432031, 2.43720606, 1.57355094,\n",
       "       3.70509315, 1.94215573, 1.14271694, 3.24055123, 2.94656235,\n",
       "       2.04026909, 2.53974169, 2.26023579, 2.3714202 , 1.89306296,\n",
       "       1.31747651, 0.90035486, 0.        , 2.40651876, 1.80564122,\n",
       "       1.76357388, 3.0863322 , 1.42862868, 2.41692939, 1.6770207 ,\n",
       "       2.67543608, 2.78536117, 2.8663547 , 3.14445841, 0.98666012,\n",
       "       1.68091887, 2.88414586, 0.88286328, 0.82971346, 2.23589137,\n",
       "       2.17980208, 1.56523687, 2.60975868, 1.39638168, 0.28261888,\n",
       "       1.95697272, 3.45891869, 0.78192985, 2.70328015, 1.95724384,\n",
       "       1.22255665, 1.8480977 , 2.15563578, 2.10632724, 1.86463669,\n",
       "       2.39429599, 1.66606045, 2.20847122, 1.14376307, 1.76237032,\n",
       "       2.61107898, 1.11230332, 1.35616994, 1.58540967, 1.07462698,\n",
       "       1.72176582, 0.84558058, 2.93261057, 1.91089968, 1.98210613,\n",
       "       0.93647385, 1.32122463, 1.29627478, 2.61767441, 0.9850291 ,\n",
       "       2.36853325, 1.77245322, 2.5403918 , 1.84608997, 1.25556517,\n",
       "       2.15985271, 1.39994937, 1.47700751, 4.761935  , 2.46160206,\n",
       "       2.81283206, 1.93530893, 2.76371604, 1.42860508, 1.72552657,\n",
       "       0.80206156, 2.23616421, 1.40099955, 3.01552415, 0.83542442,\n",
       "       2.11061661, 1.60370287, 2.59285742, 2.57505983, 2.54527429,\n",
       "       1.82376237, 2.34934261, 2.99458021, 2.33270162, 0.67822576,\n",
       "       2.09903529, 1.72446179, 1.48593676, 1.45372283, 2.14898882,\n",
       "       0.89027858, 2.92295498, 1.73496318, 2.35889575, 2.3425591 ,\n",
       "       2.33192036, 2.90713322, 1.70745108, 0.74691761, 3.19405329,\n",
       "       1.2855134 , 2.30877426, 2.51996011, 2.0348448 , 3.11560547,\n",
       "       2.58755517, 2.69940084, 1.67224649, 1.816783  , 2.00716446,\n",
       "       1.69638127, 0.91617811, 2.41729218, 3.17807746, 0.83043778,\n",
       "       2.04245202, 2.01744388, 1.15394384, 4.09802961, 1.68079856,\n",
       "       2.26872875, 1.63851237, 2.01228571, 2.58326089, 3.15226817,\n",
       "       1.96225907, 1.61844018, 2.39276555, 2.39305413, 1.08396423,\n",
       "       2.29225217, 2.34369099, 1.0461548 , 2.85157549, 2.26998729,\n",
       "       2.15596192, 2.51622137, 2.05403348, 1.10582   , 2.93886524,\n",
       "       2.52133164, 3.02389348, 2.12887345, 1.5959866 , 1.96280843,\n",
       "       2.86335891, 1.84920824, 1.16099417, 1.68296969, 1.51227218,\n",
       "       1.08824992, 2.9603256 , 1.27807826, 2.59104025, 0.34679258,\n",
       "       1.19775045, 2.31345457, 2.18248019, 2.42172924, 2.10428425])"
      ]
     },
     "execution_count": 36,
     "metadata": {},
     "output_type": "execute_result"
    }
   ],
   "source": [
    "embedding = embedding - min(embedding)\n"
   ]
  },
  {
   "cell_type": "code",
   "execution_count": 37,
   "id": "095939ca-5e77-4690-af39-b64da0e7f296",
   "metadata": {},
   "outputs": [],
   "source": [
    "embedding = embedding / sum(embedding)"
   ]
  },
  {
   "cell_type": "code",
   "execution_count": 38,
   "id": "39990a15-e0eb-42b7-b3bd-48a018dfdc82",
   "metadata": {},
   "outputs": [
    {
     "data": {
      "text/plain": [
       "array([0.00310251, 0.00323103, 0.00497969, 0.00229913, 0.00453811,\n",
       "       0.00213293, 0.00389464, 0.00408368, 0.00514515, 0.00321224,\n",
       "       0.0054746 , 0.00497389, 0.00544822, 0.001527  , 0.00207403,\n",
       "       0.00398725, 0.00404555, 0.00435232, 0.0053425 , 0.00195021,\n",
       "       0.00579339, 0.00352043, 0.0050555 , 0.00184274, 0.00186522,\n",
       "       0.00220304, 0.0040896 , 0.00148783, 0.00368014, 0.00352578,\n",
       "       0.00147956, 0.002923  , 0.00293632, 0.00210751, 0.00340755,\n",
       "       0.00648243, 0.00558296, 0.00408134, 0.00219639, 0.00241514,\n",
       "       0.00428794, 0.00623917, 0.00236427, 0.00462869, 0.0034449 ,\n",
       "       0.00319266, 0.00098753, 0.00354449, 0.00231979, 0.00482095,\n",
       "       0.00547153, 0.00418638, 0.0047301 , 0.0035061 , 0.00440683,\n",
       "       0.00406856, 0.00473589, 0.00620036, 0.00456069, 0.00412901,\n",
       "       0.0045126 , 0.00319225, 0.00329434, 0.00078535, 0.00382284,\n",
       "       0.00334217, 0.00241078, 0.003814  , 0.00164768, 0.00331351,\n",
       "       0.00265664, 0.00416744, 0.00078179, 0.00382691, 0.00160316,\n",
       "       0.00193159, 0.00314051, 0.00348001, 0.00235324, 0.00525766,\n",
       "       0.00170628, 0.00289473, 0.0041445 , 0.00410999, 0.00361876,\n",
       "       0.00573063, 0.00239878, 0.00282442, 0.00245128, 0.00239239,\n",
       "       0.00488635, 0.00641651, 0.00145393, 0.00098233, 0.00147148,\n",
       "       0.0025922 , 0.00417017, 0.00317859, 0.00404347, 0.00250679,\n",
       "       0.00443257, 0.00454711, 0.00327532, 0.00566864, 0.00215494,\n",
       "       0.00245428, 0.00408512, 0.00131304, 0.00402087, 0.0041303 ,\n",
       "       0.00473232, 0.00360918, 0.00374924, 0.00144834, 0.00276576,\n",
       "       0.00378182, 0.00386958, 0.00193266, 0.00393059, 0.0030587 ,\n",
       "       0.00249548, 0.00343934, 0.00466649, 0.00397977, 0.00351033,\n",
       "       0.00214531, 0.0029873 , 0.00382826, 0.00394627, 0.00254786,\n",
       "       0.00599921, 0.0031447 , 0.00185026, 0.00524704, 0.00477101,\n",
       "       0.00330356, 0.0041123 , 0.00365973, 0.00383976, 0.00306521,\n",
       "       0.00213323, 0.00145784, 0.        , 0.00389659, 0.00292366,\n",
       "       0.00285554, 0.00499733, 0.00231321, 0.00391344, 0.0027154 ,\n",
       "       0.00433201, 0.00451   , 0.00464114, 0.00509144, 0.00159758,\n",
       "       0.00272171, 0.00466995, 0.00142951, 0.00134346, 0.00362031,\n",
       "       0.00352949, 0.0025344 , 0.00422567, 0.00226099, 0.00045761,\n",
       "       0.00316869, 0.00560061, 0.00126609, 0.0043771 , 0.00316913,\n",
       "       0.00197954, 0.0029924 , 0.00349036, 0.00341052, 0.00301918,\n",
       "       0.0038768 , 0.00269765, 0.00357591, 0.00185196, 0.00285359,\n",
       "       0.00422781, 0.00180102, 0.00219588, 0.00256706, 0.00174001,\n",
       "       0.00278785, 0.00136915, 0.00474842, 0.00309409, 0.00320939,\n",
       "       0.00151632, 0.0021393 , 0.0020989 , 0.00423849, 0.00159494,\n",
       "       0.00383508, 0.00286992, 0.00411335, 0.00298915, 0.00203299,\n",
       "       0.00349719, 0.00226677, 0.00239154, 0.00771043, 0.00398578,\n",
       "       0.00455448, 0.00313361, 0.00447495, 0.00231317, 0.00279394,\n",
       "       0.00129868, 0.00362075, 0.00226847, 0.00488268, 0.0013527 ,\n",
       "       0.00341747, 0.00259668, 0.0041983 , 0.00416948, 0.00412126,\n",
       "       0.002953  , 0.00380401, 0.00484876, 0.00377706, 0.00109817,\n",
       "       0.00339872, 0.00279221, 0.002406  , 0.00235384, 0.0034796 ,\n",
       "       0.00144152, 0.00473279, 0.00280922, 0.00381948, 0.00379302,\n",
       "       0.0037758 , 0.00470717, 0.00276467, 0.00120939, 0.00517175,\n",
       "       0.00208148, 0.00373832, 0.00408027, 0.00329478, 0.00504473,\n",
       "       0.00418972, 0.00437082, 0.00270767, 0.0029417 , 0.00324996,\n",
       "       0.00274675, 0.00148346, 0.00391403, 0.00514588, 0.00134463,\n",
       "       0.0033071 , 0.0032666 , 0.00186844, 0.00663545, 0.00272152,\n",
       "       0.00367348, 0.00265305, 0.00325825, 0.00418276, 0.00510409,\n",
       "       0.00317725, 0.00262055, 0.00387432, 0.00387478, 0.00175513,\n",
       "       0.00371157, 0.00379486, 0.00169391, 0.00461721, 0.00367552,\n",
       "       0.00349089, 0.00407421, 0.00332585, 0.00179052, 0.00475855,\n",
       "       0.00408249, 0.00489623, 0.00344703, 0.00258419, 0.00317814,\n",
       "       0.00463629, 0.0029942 , 0.00187986, 0.00272503, 0.00244864,\n",
       "       0.00176207, 0.0047933 , 0.00206944, 0.00419536, 0.00056152,\n",
       "       0.00193937, 0.0037459 , 0.00353383, 0.00392122, 0.00340721])"
      ]
     },
     "execution_count": 38,
     "metadata": {},
     "output_type": "execute_result"
    }
   ],
   "source": [
    "embedding"
   ]
  },
  {
   "cell_type": "code",
   "execution_count": 23,
   "id": "8cc6888f-786d-4dfa-821b-bb7bb4be83da",
   "metadata": {},
   "outputs": [
    {
     "ename": "ValueError",
     "evalue": "non-broadcastable output operand with shape (300,) doesn't match the broadcast shape (1,300)",
     "output_type": "error",
     "traceback": [
      "\u001b[0;31m---------------------------------------------------------------------------\u001b[0m",
      "\u001b[0;31mValueError\u001b[0m                                Traceback (most recent call last)",
      "\u001b[0;32m<ipython-input-23-c9e131ac4a7f>\u001b[0m in \u001b[0;36m<module>\u001b[0;34m\u001b[0m\n\u001b[1;32m      1\u001b[0m \u001b[0;32mimport\u001b[0m \u001b[0mnumpy\u001b[0m \u001b[0;32mas\u001b[0m \u001b[0mnp\u001b[0m\u001b[0;34m\u001b[0m\u001b[0;34m\u001b[0m\u001b[0m\n\u001b[1;32m      2\u001b[0m \u001b[0membedding\u001b[0m \u001b[0;34m=\u001b[0m \u001b[0mnp\u001b[0m\u001b[0;34m.\u001b[0m\u001b[0mzeros\u001b[0m\u001b[0;34m(\u001b[0m\u001b[0;36m300\u001b[0m\u001b[0;34m)\u001b[0m\u001b[0;34m\u001b[0m\u001b[0;34m\u001b[0m\u001b[0m\n\u001b[0;32m----> 3\u001b[0;31m \u001b[0membedding\u001b[0m \u001b[0;34m+=\u001b[0m \u001b[0mmodel\u001b[0m\u001b[0;34m.\u001b[0m\u001b[0mwv\u001b[0m\u001b[0;34m[\u001b[0m\u001b[0mtokens\u001b[0m\u001b[0;34m]\u001b[0m\u001b[0;34m\u001b[0m\u001b[0;34m\u001b[0m\u001b[0m\n\u001b[0m",
      "\u001b[0;31mValueError\u001b[0m: non-broadcastable output operand with shape (300,) doesn't match the broadcast shape (1,300)"
     ]
    }
   ],
   "source": [
    "import numpy as np\n",
    "embedding = np.zeros(300)\n",
    "embedding += model.wv[tokens]"
   ]
  },
  {
   "cell_type": "code",
   "execution_count": null,
   "id": "a1b312ee-8ed2-4de4-bd78-ff15926aa096",
   "metadata": {},
   "outputs": [],
   "source": []
  },
  {
   "cell_type": "code",
   "execution_count": 19,
   "id": "9f33032c-7246-4c72-b2e7-7a5e0720232f",
   "metadata": {},
   "outputs": [],
   "source": [
    "embedding = embedding - min(embedding)"
   ]
  },
  {
   "cell_type": "code",
   "execution_count": 22,
   "id": "56f5bf43-757c-4571-a961-f3b64390bd60",
   "metadata": {},
   "outputs": [
    {
     "data": {
      "text/plain": [
       "array([-1.29948422e-01, -5.05745336e-02,  1.02938735e+00, -6.26117647e-01,\n",
       "        7.56672144e-01, -7.28759825e-01,  3.59266430e-01,  4.76016760e-01,\n",
       "        1.13157928e+00, -6.21792115e-02,  1.33504391e+00,  1.02580798e+00,\n",
       "        1.31875312e+00, -1.10297775e+00, -7.65139103e-01,  4.16458964e-01,\n",
       "        4.52467352e-01,  6.41929924e-01,  1.25345922e+00, -8.41609597e-01,\n",
       "        1.53192461e+00,  1.28156230e-01,  1.07620811e+00, -9.07982528e-01,\n",
       "       -8.94098699e-01, -6.85463369e-01,  4.79669720e-01, -1.12716949e+00,\n",
       "        2.26788357e-01,  1.31456092e-01, -1.13228142e+00, -2.40817204e-01,\n",
       "       -2.32589886e-01, -7.44460762e-01,  5.84412590e-02,  1.95747352e+00,\n",
       "        1.40196633e+00,  4.74572837e-01, -6.89569116e-01, -5.54470539e-01,\n",
       "        6.02163792e-01,  1.80723727e+00, -5.85886657e-01,  8.12611401e-01,\n",
       "        8.15065131e-02, -7.42718875e-02, -1.43615401e+00,  1.43015429e-01,\n",
       "       -6.13356471e-01,  9.31354225e-01,  1.33314586e+00,  5.39440989e-01,\n",
       "        8.75245273e-01,  1.19303443e-01,  6.75592721e-01,  4.66678143e-01,\n",
       "        8.78817260e-01,  1.78327036e+00,  7.70615101e-01,  5.04013717e-01,\n",
       "        7.40916014e-01, -7.45278597e-02, -1.14784380e-02, -1.56102383e+00,\n",
       "        3.14919829e-01,  1.80600639e-02, -5.57163775e-01,  3.09460402e-01,\n",
       "       -1.02845156e+00,  3.61719052e-04, -4.05317068e-01,  5.27744591e-01,\n",
       "       -1.56322193e+00,  3.17434788e-01, -1.05594301e+00, -8.53107572e-01,\n",
       "       -1.06481940e-01,  1.03188932e-01, -5.92700362e-01,  1.20106232e+00,\n",
       "       -9.92260218e-01, -2.58275688e-01,  5.13581395e-01,  4.92265612e-01,\n",
       "        1.88881114e-01,  1.49316847e+00, -5.64570546e-01, -3.01696867e-01,\n",
       "       -5.32146692e-01, -5.68519533e-01,  9.71744716e-01,  1.91676211e+00,\n",
       "       -1.14810562e+00, -1.43936849e+00, -1.13727069e+00, -4.45116550e-01,\n",
       "        5.29433548e-01, -8.29652026e-02,  4.51180905e-01, -4.97868747e-01,\n",
       "        6.91486716e-01,  7.62231290e-01, -2.32272763e-02,  1.45488358e+00,\n",
       "       -7.15164840e-01, -5.30297935e-01,  4.76905793e-01, -1.23511982e+00,\n",
       "        4.37226802e-01,  5.04810870e-01,  8.76613677e-01,  1.82963818e-01,\n",
       "        2.69467086e-01, -1.15156233e+00, -3.37926805e-01,  2.89588541e-01,\n",
       "        3.43789697e-01, -8.52445602e-01,  3.81467938e-01, -1.57010943e-01,\n",
       "       -5.04852414e-01,  7.80712068e-02,  8.35955024e-01,  4.11840916e-01,\n",
       "        1.21919215e-01, -7.21112072e-01, -2.01104328e-01,  3.18269521e-01,\n",
       "        3.91155273e-01, -4.72499847e-01,  1.65904236e+00, -1.03895053e-01,\n",
       "       -9.03333843e-01,  1.19450045e+00,  9.00511563e-01, -5.78170177e-03,\n",
       "        4.93690908e-01,  2.14184999e-01,  3.25369418e-01, -1.52987823e-01,\n",
       "       -7.28574276e-01, -1.14569592e+00, -2.04605079e+00,  3.60467970e-01,\n",
       "       -2.40409568e-01, -2.82476902e-01,  1.04028141e+00, -6.17422104e-01,\n",
       "        3.70878607e-01, -3.69030088e-01,  6.29385293e-01,  7.39310384e-01,\n",
       "        8.20303917e-01,  1.09840763e+00, -1.05939066e+00, -3.65131915e-01,\n",
       "        8.38095069e-01, -1.16318750e+00, -1.21633732e+00,  1.89840585e-01,\n",
       "        1.33751288e-01, -4.80813920e-01,  5.63707888e-01, -6.49669111e-01,\n",
       "       -1.76343191e+00, -8.90780687e-02,  1.41286790e+00, -1.26412094e+00,\n",
       "        6.57229364e-01, -8.88069496e-02, -8.23494136e-01, -1.97953090e-01,\n",
       "        1.09584995e-01,  6.02764525e-02, -1.81414098e-01,  3.48245203e-01,\n",
       "       -3.79990339e-01,  1.62420437e-01, -9.02287722e-01, -2.83680469e-01,\n",
       "        5.65028191e-01, -9.33747470e-01, -6.89880848e-01, -4.60641116e-01,\n",
       "       -9.71423805e-01, -3.24284971e-01, -1.20047021e+00,  8.86559784e-01,\n",
       "       -1.35151103e-01, -6.39446527e-02, -1.10957694e+00, -7.24826157e-01,\n",
       "       -7.49776006e-01,  5.71623623e-01, -1.06102169e+00,  3.22482467e-01,\n",
       "       -2.73597568e-01,  4.94341016e-01, -1.99960813e-01, -7.90485620e-01,\n",
       "        1.13801926e-01, -6.46101415e-01, -5.69043279e-01,  2.71588421e+00,\n",
       "        4.15551275e-01,  7.66781271e-01, -1.10741861e-01,  7.17665255e-01,\n",
       "       -6.17445707e-01, -3.20524216e-01, -1.24398923e+00,  1.90113425e-01,\n",
       "       -6.45051241e-01,  9.69473362e-01, -1.21062636e+00,  6.45658225e-02,\n",
       "       -4.42347914e-01,  5.46806633e-01,  5.29009044e-01,  4.99223500e-01,\n",
       "       -2.22288415e-01,  3.03291827e-01,  9.48529422e-01,  2.86650836e-01,\n",
       "       -1.36782503e+00,  5.29845022e-02, -3.21588993e-01, -5.60114026e-01,\n",
       "       -5.92327952e-01,  1.02938034e-01, -1.15577221e+00,  8.76904190e-01,\n",
       "       -3.11087608e-01,  3.12844962e-01,  2.96508312e-01,  2.85869569e-01,\n",
       "        8.61082435e-01, -3.38599712e-01, -1.29913318e+00,  1.14800251e+00,\n",
       "       -7.60537386e-01,  2.62723476e-01,  4.73909318e-01, -1.12059908e-02,\n",
       "        1.06955469e+00,  5.41504383e-01,  6.53350055e-01, -3.73804301e-01,\n",
       "       -2.29267791e-01, -3.88863310e-02, -3.49669516e-01, -1.12987268e+00,\n",
       "        3.71241391e-01,  1.13202667e+00, -1.21561301e+00, -3.59876431e-03,\n",
       "       -2.86069084e-02, -8.92106950e-01,  2.05197883e+00, -3.65252227e-01,\n",
       "        2.22677961e-01, -4.07538414e-01, -3.37650776e-02,  5.37210107e-01,\n",
       "        1.10621738e+00, -8.37917179e-02, -4.27610606e-01,  3.46714765e-01,\n",
       "        3.47003341e-01, -9.62086558e-01,  2.46201381e-01,  2.97640204e-01,\n",
       "       -9.99895990e-01,  8.05524707e-01,  2.23936498e-01,  1.09911129e-01,\n",
       "        4.70170587e-01,  7.98269641e-03, -9.40230787e-01,  8.92814457e-01,\n",
       "        4.75280851e-01,  9.77842689e-01,  8.28226656e-02, -4.50064182e-01,\n",
       "       -8.32423568e-02,  8.17308128e-01, -1.96842551e-01, -8.85056615e-01,\n",
       "       -3.63081098e-01, -5.33778608e-01, -9.57800865e-01,  9.14274812e-01,\n",
       "       -7.67972529e-01,  5.44989467e-01, -1.69925821e+00, -8.48300338e-01,\n",
       "        2.67403781e-01,  1.36429399e-01,  3.75678450e-01,  5.82334623e-02],\n",
       "      dtype=float32)"
      ]
     },
     "execution_count": 22,
     "metadata": {},
     "output_type": "execute_result"
    }
   ],
   "source": [
    "min(embedding)"
   ]
  },
  {
   "cell_type": "code",
   "execution_count": 13,
   "id": "9bb8b4eb-fedc-4515-9553-9288764d470c",
   "metadata": {},
   "outputs": [
    {
     "name": "stderr",
     "output_type": "stream",
     "text": [
      "<ipython-input-13-d51a1011a0c2>:1: RuntimeWarning: invalid value encountered in true_divide\n",
      "  embedding = embedding / max(embedding)\n"
     ]
    }
   ],
   "source": [
    "embedding = embedding / max(embedding)"
   ]
  },
  {
   "cell_type": "code",
   "execution_count": 39,
   "id": "7eb6f2c8-8995-4771-9604-2a65182b562f",
   "metadata": {},
   "outputs": [
    {
     "data": {
      "text/plain": [
       "array([0.00310251, 0.00323103, 0.00497969, 0.00229913, 0.00453811,\n",
       "       0.00213293, 0.00389464, 0.00408368, 0.00514515, 0.00321224,\n",
       "       0.0054746 , 0.00497389, 0.00544822, 0.001527  , 0.00207403,\n",
       "       0.00398725, 0.00404555, 0.00435232, 0.0053425 , 0.00195021,\n",
       "       0.00579339, 0.00352043, 0.0050555 , 0.00184274, 0.00186522,\n",
       "       0.00220304, 0.0040896 , 0.00148783, 0.00368014, 0.00352578,\n",
       "       0.00147956, 0.002923  , 0.00293632, 0.00210751, 0.00340755,\n",
       "       0.00648243, 0.00558296, 0.00408134, 0.00219639, 0.00241514,\n",
       "       0.00428794, 0.00623917, 0.00236427, 0.00462869, 0.0034449 ,\n",
       "       0.00319266, 0.00098753, 0.00354449, 0.00231979, 0.00482095,\n",
       "       0.00547153, 0.00418638, 0.0047301 , 0.0035061 , 0.00440683,\n",
       "       0.00406856, 0.00473589, 0.00620036, 0.00456069, 0.00412901,\n",
       "       0.0045126 , 0.00319225, 0.00329434, 0.00078535, 0.00382284,\n",
       "       0.00334217, 0.00241078, 0.003814  , 0.00164768, 0.00331351,\n",
       "       0.00265664, 0.00416744, 0.00078179, 0.00382691, 0.00160316,\n",
       "       0.00193159, 0.00314051, 0.00348001, 0.00235324, 0.00525766,\n",
       "       0.00170628, 0.00289473, 0.0041445 , 0.00410999, 0.00361876,\n",
       "       0.00573063, 0.00239878, 0.00282442, 0.00245128, 0.00239239,\n",
       "       0.00488635, 0.00641651, 0.00145393, 0.00098233, 0.00147148,\n",
       "       0.0025922 , 0.00417017, 0.00317859, 0.00404347, 0.00250679,\n",
       "       0.00443257, 0.00454711, 0.00327532, 0.00566864, 0.00215494,\n",
       "       0.00245428, 0.00408512, 0.00131304, 0.00402087, 0.0041303 ,\n",
       "       0.00473232, 0.00360918, 0.00374924, 0.00144834, 0.00276576,\n",
       "       0.00378182, 0.00386958, 0.00193266, 0.00393059, 0.0030587 ,\n",
       "       0.00249548, 0.00343934, 0.00466649, 0.00397977, 0.00351033,\n",
       "       0.00214531, 0.0029873 , 0.00382826, 0.00394627, 0.00254786,\n",
       "       0.00599921, 0.0031447 , 0.00185026, 0.00524704, 0.00477101,\n",
       "       0.00330356, 0.0041123 , 0.00365973, 0.00383976, 0.00306521,\n",
       "       0.00213323, 0.00145784, 0.        , 0.00389659, 0.00292366,\n",
       "       0.00285554, 0.00499733, 0.00231321, 0.00391344, 0.0027154 ,\n",
       "       0.00433201, 0.00451   , 0.00464114, 0.00509144, 0.00159758,\n",
       "       0.00272171, 0.00466995, 0.00142951, 0.00134346, 0.00362031,\n",
       "       0.00352949, 0.0025344 , 0.00422567, 0.00226099, 0.00045761,\n",
       "       0.00316869, 0.00560061, 0.00126609, 0.0043771 , 0.00316913,\n",
       "       0.00197954, 0.0029924 , 0.00349036, 0.00341052, 0.00301918,\n",
       "       0.0038768 , 0.00269765, 0.00357591, 0.00185196, 0.00285359,\n",
       "       0.00422781, 0.00180102, 0.00219588, 0.00256706, 0.00174001,\n",
       "       0.00278785, 0.00136915, 0.00474842, 0.00309409, 0.00320939,\n",
       "       0.00151632, 0.0021393 , 0.0020989 , 0.00423849, 0.00159494,\n",
       "       0.00383508, 0.00286992, 0.00411335, 0.00298915, 0.00203299,\n",
       "       0.00349719, 0.00226677, 0.00239154, 0.00771043, 0.00398578,\n",
       "       0.00455448, 0.00313361, 0.00447495, 0.00231317, 0.00279394,\n",
       "       0.00129868, 0.00362075, 0.00226847, 0.00488268, 0.0013527 ,\n",
       "       0.00341747, 0.00259668, 0.0041983 , 0.00416948, 0.00412126,\n",
       "       0.002953  , 0.00380401, 0.00484876, 0.00377706, 0.00109817,\n",
       "       0.00339872, 0.00279221, 0.002406  , 0.00235384, 0.0034796 ,\n",
       "       0.00144152, 0.00473279, 0.00280922, 0.00381948, 0.00379302,\n",
       "       0.0037758 , 0.00470717, 0.00276467, 0.00120939, 0.00517175,\n",
       "       0.00208148, 0.00373832, 0.00408027, 0.00329478, 0.00504473,\n",
       "       0.00418972, 0.00437082, 0.00270767, 0.0029417 , 0.00324996,\n",
       "       0.00274675, 0.00148346, 0.00391403, 0.00514588, 0.00134463,\n",
       "       0.0033071 , 0.0032666 , 0.00186844, 0.00663545, 0.00272152,\n",
       "       0.00367348, 0.00265305, 0.00325825, 0.00418276, 0.00510409,\n",
       "       0.00317725, 0.00262055, 0.00387432, 0.00387478, 0.00175513,\n",
       "       0.00371157, 0.00379486, 0.00169391, 0.00461721, 0.00367552,\n",
       "       0.00349089, 0.00407421, 0.00332585, 0.00179052, 0.00475855,\n",
       "       0.00408249, 0.00489623, 0.00344703, 0.00258419, 0.00317814,\n",
       "       0.00463629, 0.0029942 , 0.00187986, 0.00272503, 0.00244864,\n",
       "       0.00176207, 0.0047933 , 0.00206944, 0.00419536, 0.00056152,\n",
       "       0.00193937, 0.0037459 , 0.00353383, 0.00392122, 0.00340721])"
      ]
     },
     "execution_count": 39,
     "metadata": {},
     "output_type": "execute_result"
    }
   ],
   "source": [
    "embedding"
   ]
  },
  {
   "cell_type": "code",
   "execution_count": 40,
   "id": "f52baa32-ec5e-499c-806c-bdcbdce54005",
   "metadata": {},
   "outputs": [],
   "source": [
    "from annoy import AnnoyIndex"
   ]
  },
  {
   "cell_type": "code",
   "execution_count": 41,
   "id": "75e445ab-ccd2-4237-bd08-c72f59828edb",
   "metadata": {},
   "outputs": [],
   "source": []
  },
  {
   "cell_type": "code",
   "execution_count": 43,
   "id": "fc9020d2-defa-438a-a29b-41a5115ccec2",
   "metadata": {},
   "outputs": [
    {
     "name": "stdout",
     "output_type": "stream",
     "text": [
      "[0, 899571, 615583, 155032, 561033, 803114, 66035, 706338, 781183, 768099, 71648, 100634, 958952, 715911, 339977, 696112, 178712, 769525, 956934, 902743, 360648, 128146, 222112, 372883, 221700, 906664, 849165, 382265, 226103, 690975, 947154, 298810, 3727, 259388, 142772, 575093, 982436, 943503, 253442, 437363, 177446, 640699, 434068, 338204, 773758, 311446, 580086, 877937, 967921, 776131, 487548, 332550, 979533, 92282, 3351, 985121, 695967, 314769, 723604, 176502, 500511, 776512, 215107, 514790, 765607, 366541, 788278, 900808, 222792, 481129, 497830, 446674, 348082, 941632, 81055, 603877, 513167, 924750, 257186, 788675, 751777, 42380, 784627, 326014, 884474, 284213, 529231, 374034, 998656, 564567, 426396, 404825, 242471, 19843, 74448, 490008, 241565, 698165, 897369, 780925]\n"
     ]
    }
   ],
   "source": [
    "u = AnnoyIndex(300, 'angular')\n",
    "u.load('image_em.ann') # super fast, will just mmap the file\n",
    "print(u.get_nns_by_item(0, 100))"
   ]
  },
  {
   "cell_type": "code",
   "execution_count": 53,
   "id": "1b824721-d54d-4346-96ef-fc167592c74d",
   "metadata": {},
   "outputs": [],
   "source": [
    "values=u.get_nns_by_vector(embedding,10)"
   ]
  },
  {
   "cell_type": "code",
   "execution_count": 47,
   "id": "2272e722-57e9-4e0e-85ca-1b440949b7eb",
   "metadata": {},
   "outputs": [],
   "source": [
    "import pandas as pd"
   ]
  },
  {
   "cell_type": "code",
   "execution_count": 50,
   "id": "edcfbba5-cfe7-4849-aab3-d761e52c4f73",
   "metadata": {},
   "outputs": [],
   "source": [
    "df = pd.read_csv('id_2_img.csv',index_col=0)"
   ]
  },
  {
   "cell_type": "code",
   "execution_count": 51,
   "id": "4c4ee455-3860-408c-b783-1e69dce0734e",
   "metadata": {},
   "outputs": [
    {
     "data": {
      "text/html": [
       "<div>\n",
       "<style scoped>\n",
       "    .dataframe tbody tr th:only-of-type {\n",
       "        vertical-align: middle;\n",
       "    }\n",
       "\n",
       "    .dataframe tbody tr th {\n",
       "        vertical-align: top;\n",
       "    }\n",
       "\n",
       "    .dataframe thead th {\n",
       "        text-align: right;\n",
       "    }\n",
       "</style>\n",
       "<table border=\"1\" class=\"dataframe\">\n",
       "  <thead>\n",
       "    <tr style=\"text-align: right;\">\n",
       "      <th></th>\n",
       "      <th>id</th>\n",
       "      <th>img_path</th>\n",
       "    </tr>\n",
       "  </thead>\n",
       "  <tbody>\n",
       "    <tr>\n",
       "      <th>0</th>\n",
       "      <td>0</td>\n",
       "      <td>img_resized_1M/cities_instagram/chicago/148202...</td>\n",
       "    </tr>\n",
       "    <tr>\n",
       "      <th>1</th>\n",
       "      <td>1</td>\n",
       "      <td>img_resized_1M/cities_instagram/miami/14898629...</td>\n",
       "    </tr>\n",
       "    <tr>\n",
       "      <th>2</th>\n",
       "      <td>2</td>\n",
       "      <td>img_resized_1M/cities_instagram/london/1490670...</td>\n",
       "    </tr>\n",
       "    <tr>\n",
       "      <th>3</th>\n",
       "      <td>3</td>\n",
       "      <td>img_resized_1M/cities_instagram/losangeles/149...</td>\n",
       "    </tr>\n",
       "    <tr>\n",
       "      <th>4</th>\n",
       "      <td>4</td>\n",
       "      <td>img_resized_1M/cities_instagram/sydney/1480253...</td>\n",
       "    </tr>\n",
       "  </tbody>\n",
       "</table>\n",
       "</div>"
      ],
      "text/plain": [
       "   id                                           img_path\n",
       "0   0  img_resized_1M/cities_instagram/chicago/148202...\n",
       "1   1  img_resized_1M/cities_instagram/miami/14898629...\n",
       "2   2  img_resized_1M/cities_instagram/london/1490670...\n",
       "3   3  img_resized_1M/cities_instagram/losangeles/149...\n",
       "4   4  img_resized_1M/cities_instagram/sydney/1480253..."
      ]
     },
     "execution_count": 51,
     "metadata": {},
     "output_type": "execute_result"
    }
   ],
   "source": [
    "df.head()"
   ]
  },
  {
   "cell_type": "code",
   "execution_count": 54,
   "id": "977ead40-3589-44e4-aa12-cd993594e5f8",
   "metadata": {},
   "outputs": [],
   "source": [
    " mask = df['id'].isin(values)"
   ]
  },
  {
   "cell_type": "code",
   "execution_count": 58,
   "id": "5a550870-5634-4e0a-a1a8-85364da87434",
   "metadata": {},
   "outputs": [
    {
     "data": {
      "text/plain": [
       "[261267, 57148, 91767, 334563, 373724, 925995, 225808, 779842, 750456, 293487]"
      ]
     },
     "execution_count": 58,
     "metadata": {},
     "output_type": "execute_result"
    }
   ],
   "source": [
    "values"
   ]
  },
  {
   "cell_type": "code",
   "execution_count": 65,
   "id": "e460a94d-8912-4429-8a33-fc93bfd5ff0f",
   "metadata": {},
   "outputs": [],
   "source": [
    "images= list(df.loc[mask].img_path)"
   ]
  },
  {
   "cell_type": "code",
   "execution_count": 66,
   "id": "2377b9dc-fd0d-4151-8a7c-41c19d379fdd",
   "metadata": {},
   "outputs": [
    {
     "data": {
      "text/plain": [
       "['img_resized_1M/cities_instagram/sydney/1489720091154328571.jpg',\n",
       " 'img_resized_1M/cities_instagram/sydney/1487633135456880617.jpg',\n",
       " 'img_resized_1M/cities_instagram/sydney/1488381924266477481.jpg',\n",
       " 'img_resized_1M/cities_instagram/singapore/1490943062917435715.jpg',\n",
       " 'img_resized_1M/cities_instagram/sydney/1481081605783352611.jpg',\n",
       " 'img_resized_1M/cities_instagram/sydney/1487939923487296675.jpg',\n",
       " 'img_resized_1M/cities_instagram/toronto/1489542780183436767.jpg',\n",
       " 'img_resized_1M/cities_instagram/sydney/1489414788212038159.jpg',\n",
       " 'img_resized_1M/cities_instagram/sydney/1481093657124791651.jpg',\n",
       " 'img_resized_1M/cities_instagram/sydney/1486501262735180214.jpg']"
      ]
     },
     "execution_count": 66,
     "metadata": {},
     "output_type": "execute_result"
    }
   ],
   "source": [
    "images"
   ]
  },
  {
   "cell_type": "code",
   "execution_count": 67,
   "id": "0edcb72e-fb93-4c9d-88e8-7616334f6a17",
   "metadata": {},
   "outputs": [],
   "source": [
    "from PIL import Image"
   ]
  },
  {
   "cell_type": "code",
   "execution_count": 72,
   "id": "0cb7d3fb-55bb-415f-9dcc-bcc84ba6d192",
   "metadata": {},
   "outputs": [],
   "source": [
    "im = Image.open(f\"{images[2]}\")"
   ]
  },
  {
   "cell_type": "code",
   "execution_count": 71,
   "id": "289f6b93-5cd7-4fb0-8b45-19c4a4804aa5",
   "metadata": {},
   "outputs": [
    {
     "data": {
      "image/png": "[encoded data removed]",
      "text/plain": [
       "<PIL.JpegImagePlugin.JpegImageFile image mode=RGB size=300x300 at 0x7F7AE74C98B0>"
      ]
     },
     "metadata": {},
     "output_type": "display_data"
    }
   ],
   "source": [
    "im.show()"
   ]
  },
  {
   "cell_type": "code",
   "execution_count": null,
   "id": "0c9117f8-ffd1-421a-8f72-d943ad9fda0d",
   "metadata": {},
   "outputs": [],
   "source": []
  }
 ],
 "metadata": {
  "kernelspec": {
   "display_name": "Python 3",
   "language": "python",
   "name": "python3"
  },
  "language_info": {
   "codemirror_mode": {
    "name": "ipython",
    "version": 3
   },
   "file_extension": ".py",
   "mimetype": "text/x-python",
   "name": "python",
   "nbconvert_exporter": "python",
   "pygments_lexer": "ipython3",
   "version": "3.8.5"
  }
 },
 "nbformat": 4,
 "nbformat_minor": 5
}
