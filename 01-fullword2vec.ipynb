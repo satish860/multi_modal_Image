{
 "cells": [
  {
   "cell_type": "code",
   "execution_count": null,
   "id": "756bce02-9667-49ee-9f8a-26cb40509dd0",
   "metadata": {},
   "outputs": [],
   "source": [
    "import io\n",
    "import multiprocessing\n",
    "import pandas as pd"
   ]
  },
  {
   "cell_type": "code",
   "execution_count": null,
   "id": "1bb03ef3-cb30-426b-83de-cfbd18c54f4f",
   "metadata": {},
   "outputs": [],
   "source": [
    "df = pd.read_csv('data.csv',index_col=0)"
   ]
  },
  {
   "cell_type": "code",
   "execution_count": null,
   "id": "1ac54276-4959-4a52-9c96-79b9609d1b33",
   "metadata": {},
   "outputs": [],
   "source": [
    "df.head()"
   ]
  },
  {
   "cell_type": "code",
   "execution_count": null,
   "id": "56e4e7b9-9bd3-4eb5-91fb-3bd50873258c",
   "metadata": {},
   "outputs": [],
   "source": [
    "captions = list(df['caption'])"
   ]
  },
  {
   "cell_type": "code",
   "execution_count": null,
   "id": "aa3e6915-e12d-4667-b243-63906ed65d7c",
   "metadata": {},
   "outputs": [],
   "source": [
    "from gensim.parsing.preprocessing import remove_stopwords, preprocess_string,strip_non_alphanum,strip_numeric"
   ]
  },
  {
   "cell_type": "code",
   "execution_count": null,
   "id": "f8931809-f6c9-47c1-8876-6a2961db91a0",
   "metadata": {},
   "outputs": [],
   "source": [
    "class MyCorpus:\n",
    "    \"\"\"An iterator that yields sentences (lists of str).\"\"\"\n",
    "\n",
    "    def __iter__(self):\n",
    "        for file in captions:\n",
    "            for line in open(f'{file}'):\n",
    "                CUSTOM_FILTERS = [lambda x: x.lower(), remove_stopwords, strip_non_alphanum,strip_numeric]\n",
    "                yield preprocess_string(line,CUSTOM_FILTERS)"
   ]
  },
  {
   "cell_type": "code",
   "execution_count": null,
   "id": "62fc8e9c-7fae-4aa0-9770-46738e85481f",
   "metadata": {},
   "outputs": [],
   "source": [
    "import gensim.models"
   ]
  },
  {
   "cell_type": "code",
   "execution_count": null,
   "id": "0f12d9cc-d1f2-43b2-9f73-b3c34396349a",
   "metadata": {},
   "outputs": [],
   "source": [
    "cores=multiprocessing.cpu_count() -1\n",
    "cores"
   ]
  },
  {
   "cell_type": "code",
   "execution_count": null,
   "id": "1321a8a7-5b1b-46ea-91a5-d739789dea10",
   "metadata": {},
   "outputs": [],
   "source": [
    "sentences = MyCorpus()\n",
    "model = gensim.models.Word2Vec(workers=cores,\n",
    "                               window = 2,\n",
    "                               vector_size=300,\n",
    "                               min_count=6,\n",
    "                               sample=1e-3)"
   ]
  },
  {
   "cell_type": "code",
   "execution_count": null,
   "id": "c4a8ea36-3679-4e6d-94b7-ef695ed26fd7",
   "metadata": {},
   "outputs": [],
   "source": [
    "from time import time"
   ]
  },
  {
   "cell_type": "code",
   "execution_count": null,
   "id": "edb35279-ac0e-4514-a96b-62166f578fe0",
   "metadata": {},
   "outputs": [],
   "source": [
    "t = time()\n",
    "\n",
    "model.build_vocab(sentences, progress_per=10000)\n",
    "\n",
    "print('Time to build vocab: {} mins'.format(round((time() - t) / 60, 2)))"
   ]
  },
  {
   "cell_type": "code",
   "execution_count": null,
   "id": "d0dbd7d2-1f57-4079-b0b8-4b12a1edce4d",
   "metadata": {},
   "outputs": [],
   "source": [
    "import logging  # Setting up the loggings to monitor gensim\n",
    "logging.basicConfig(format=\"%(levelname)s - %(asctime)s: %(message)s\", datefmt= '%H:%M:%S', level=logging.INFO)"
   ]
  },
  {
   "cell_type": "code",
   "execution_count": null,
   "id": "7fb0ab63-cace-474e-86dd-b82096abda5f",
   "metadata": {},
   "outputs": [],
   "source": [
    "t = time()\n",
    "\n",
    "model.train(sentences, total_examples=model.corpus_count, epochs=30, report_delay=1)\n",
    "\n",
    "print('Time to train the model: {} mins'.format(round((time() - t) / 60, 2)))"
   ]
  },
  {
   "cell_type": "code",
   "execution_count": null,
   "id": "f710acda-c4ba-4117-afb5-f4f3d1056cab",
   "metadata": {},
   "outputs": [],
   "source": [
    "model.save('word2vec.fullmodel')"
   ]
  },
  {
   "cell_type": "code",
   "execution_count": null,
   "id": "ec075c99-ec48-4593-885a-b9ea11c6fe90",
   "metadata": {},
   "outputs": [],
   "source": []
  }
 ],
 "metadata": {
  "kernelspec": {
   "display_name": "Python 3",
   "language": "python",
   "name": "python3"
  },
  "language_info": {
   "codemirror_mode": {
    "name": "ipython",
    "version": 3
   },
   "file_extension": ".py",
   "mimetype": "text/x-python",
   "name": "python",
   "nbconvert_exporter": "python",
   "pygments_lexer": "ipython3",
   "version": "3.8.5"
  }
 },
 "nbformat": 4,
 "nbformat_minor": 5
}
