{
 "cells": [
  {
   "cell_type": "code",
   "execution_count": 3,
   "id": "756bce02-9667-49ee-9f8a-26cb40509dd0",
   "metadata": {},
   "outputs": [],
   "source": [
    "import io\n",
    "import multiprocessing\n",
    "import pandas as pd"
   ]
  },
  {
   "cell_type": "code",
   "execution_count": 4,
   "id": "1bb03ef3-cb30-426b-83de-cfbd18c54f4f",
   "metadata": {},
   "outputs": [],
   "source": [
    "df = pd.read_csv('data.csv',index_col=0)"
   ]
  },
  {
   "cell_type": "code",
   "execution_count": 5,
   "id": "1ac54276-4959-4a52-9c96-79b9609d1b33",
   "metadata": {},
   "outputs": [
    {
     "data": {
      "text/html": [
       "<div>\n",
       "<style scoped>\n",
       "    .dataframe tbody tr th:only-of-type {\n",
       "        vertical-align: middle;\n",
       "    }\n",
       "\n",
       "    .dataframe tbody tr th {\n",
       "        vertical-align: top;\n",
       "    }\n",
       "\n",
       "    .dataframe thead th {\n",
       "        text-align: right;\n",
       "    }\n",
       "</style>\n",
       "<table border=\"1\" class=\"dataframe\">\n",
       "  <thead>\n",
       "    <tr style=\"text-align: right;\">\n",
       "      <th></th>\n",
       "      <th>caption</th>\n",
       "      <th>img</th>\n",
       "    </tr>\n",
       "  </thead>\n",
       "  <tbody>\n",
       "    <tr>\n",
       "      <th>0</th>\n",
       "      <td>captions_resized_1M/cities_instagram/melbourne...</td>\n",
       "      <td>img_resized_1M/cities_instagram/melbourne/1486...</td>\n",
       "    </tr>\n",
       "    <tr>\n",
       "      <th>1</th>\n",
       "      <td>captions_resized_1M/cities_instagram/melbourne...</td>\n",
       "      <td>img_resized_1M/cities_instagram/melbourne/1487...</td>\n",
       "    </tr>\n",
       "    <tr>\n",
       "      <th>2</th>\n",
       "      <td>captions_resized_1M/cities_instagram/melbourne...</td>\n",
       "      <td>img_resized_1M/cities_instagram/melbourne/1482...</td>\n",
       "    </tr>\n",
       "    <tr>\n",
       "      <th>3</th>\n",
       "      <td>captions_resized_1M/cities_instagram/melbourne...</td>\n",
       "      <td>img_resized_1M/cities_instagram/melbourne/1490...</td>\n",
       "    </tr>\n",
       "    <tr>\n",
       "      <th>4</th>\n",
       "      <td>captions_resized_1M/cities_instagram/melbourne...</td>\n",
       "      <td>img_resized_1M/cities_instagram/melbourne/1490...</td>\n",
       "    </tr>\n",
       "  </tbody>\n",
       "</table>\n",
       "</div>"
      ],
      "text/plain": [
       "                                             caption  \\\n",
       "0  captions_resized_1M/cities_instagram/melbourne...   \n",
       "1  captions_resized_1M/cities_instagram/melbourne...   \n",
       "2  captions_resized_1M/cities_instagram/melbourne...   \n",
       "3  captions_resized_1M/cities_instagram/melbourne...   \n",
       "4  captions_resized_1M/cities_instagram/melbourne...   \n",
       "\n",
       "                                                 img  \n",
       "0  img_resized_1M/cities_instagram/melbourne/1486...  \n",
       "1  img_resized_1M/cities_instagram/melbourne/1487...  \n",
       "2  img_resized_1M/cities_instagram/melbourne/1482...  \n",
       "3  img_resized_1M/cities_instagram/melbourne/1490...  \n",
       "4  img_resized_1M/cities_instagram/melbourne/1490...  "
      ]
     },
     "execution_count": 5,
     "metadata": {},
     "output_type": "execute_result"
    }
   ],
   "source": [
    "df.head()"
   ]
  },
  {
   "cell_type": "code",
   "execution_count": 6,
   "id": "56e4e7b9-9bd3-4eb5-91fb-3bd50873258c",
   "metadata": {},
   "outputs": [],
   "source": [
    "captions = list(df['caption'])"
   ]
  },
  {
   "cell_type": "code",
   "execution_count": 7,
   "id": "aa3e6915-e12d-4667-b243-63906ed65d7c",
   "metadata": {},
   "outputs": [],
   "source": [
    "from gensim.parsing.preprocessing import remove_stopwords, preprocess_string,strip_non_alphanum,strip_numeric"
   ]
  },
  {
   "cell_type": "code",
   "execution_count": 8,
   "id": "f8931809-f6c9-47c1-8876-6a2961db91a0",
   "metadata": {},
   "outputs": [],
   "source": [
    "class MyCorpus:\n",
    "    \"\"\"An iterator that yields sentences (lists of str).\"\"\"\n",
    "\n",
    "    def __iter__(self):\n",
    "        for file in captions:\n",
    "            for line in open(f'{file}'):\n",
    "                CUSTOM_FILTERS = [lambda x: x.lower(), remove_stopwords, strip_non_alphanum,strip_numeric]\n",
    "                yield preprocess_string(line,CUSTOM_FILTERS)"
   ]
  },
  {
   "cell_type": "code",
   "execution_count": 9,
   "id": "62fc8e9c-7fae-4aa0-9770-46738e85481f",
   "metadata": {},
   "outputs": [],
   "source": [
    "import gensim.models"
   ]
  },
  {
   "cell_type": "code",
   "execution_count": 12,
   "id": "0f12d9cc-d1f2-43b2-9f73-b3c34396349a",
   "metadata": {},
   "outputs": [
    {
     "data": {
      "text/plain": [
       "63"
      ]
     },
     "execution_count": 12,
     "metadata": {},
     "output_type": "execute_result"
    }
   ],
   "source": [
    "cores=multiprocessing.cpu_count() -1\n",
    "cores"
   ]
  },
  {
   "cell_type": "code",
   "execution_count": null,
   "id": "1321a8a7-5b1b-46ea-91a5-d739789dea10",
   "metadata": {},
   "outputs": [],
   "source": [
    "sentences = MyCorpus()\n",
    "model = gensim.models.Word2Vec(sentences=sentences,\n",
    "                               workers=cores,\n",
    "                               window = 2,\n",
    "                               vector_size=300,\n",
    "                               min_count=6,\n",
    "                               sample=1e-3)"
   ]
  },
  {
   "cell_type": "code",
   "execution_count": null,
   "id": "edb35279-ac0e-4514-a96b-62166f578fe0",
   "metadata": {},
   "outputs": [],
   "source": []
  }
 ],
 "metadata": {
  "kernelspec": {
   "display_name": "Python 3",
   "language": "python",
   "name": "python3"
  },
  "language_info": {
   "codemirror_mode": {
    "name": "ipython",
    "version": 3
   },
   "file_extension": ".py",
   "mimetype": "text/x-python",
   "name": "python",
   "nbconvert_exporter": "python",
   "pygments_lexer": "ipython3",
   "version": "3.8.5"
  }
 },
 "nbformat": 4,
 "nbformat_minor": 5
}
