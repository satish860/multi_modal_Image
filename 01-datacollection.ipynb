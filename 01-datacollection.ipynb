{
 "cells": [
  {
   "cell_type": "code",
   "execution_count": 1,
   "id": "7da219a5-eedd-4287-8a71-0082ca5d05ba",
   "metadata": {},
   "outputs": [],
   "source": [
    "import os"
   ]
  },
  {
   "cell_type": "code",
   "execution_count": 2,
   "id": "379153f9-6976-4be9-9a0a-dc35eadd66a8",
   "metadata": {},
   "outputs": [],
   "source": [
    "listofCities=os.listdir('captions_resized_1M/cities_instagram/')"
   ]
  },
  {
   "cell_type": "code",
   "execution_count": 3,
   "id": "301e7a05-3fe7-4ee4-be35-3e9e09ae922c",
   "metadata": {},
   "outputs": [],
   "source": [
    "def getfiles(city):\n",
    "    for root, dirs, files in os.walk(f\"img_resized_1M/cities_instagram/{city}\"):\n",
    "        for file in files:\n",
    "            yield os.path.join(root, file)"
   ]
  },
  {
   "cell_type": "code",
   "execution_count": 4,
   "id": "f9b566fc-c974-41dc-b21e-e7b7fdc8992f",
   "metadata": {},
   "outputs": [],
   "source": [
    "fileList = [getfiles(x) for x in listofCities]"
   ]
  },
  {
   "cell_type": "code",
   "execution_count": 5,
   "id": "b525e324-5cc9-43cb-9b8a-6ae0629c71cb",
   "metadata": {},
   "outputs": [],
   "source": [
    "filecollection = []"
   ]
  },
  {
   "cell_type": "code",
   "execution_count": 6,
   "id": "a3727b3a-d536-4e3f-b801-162e5880b49d",
   "metadata": {},
   "outputs": [],
   "source": [
    "for files in fileList:\n",
    "    for file in files:\n",
    "        filecollection.append(file)"
   ]
  },
  {
   "cell_type": "code",
   "execution_count": 7,
   "id": "e77560a2-2f36-48f7-ae95-439f257325b3",
   "metadata": {},
   "outputs": [
    {
     "data": {
      "text/plain": [
       "'img_resized_1M/cities_instagram/melbourne/1486619117334362723.jpg'"
      ]
     },
     "execution_count": 7,
     "metadata": {},
     "output_type": "execute_result"
    }
   ],
   "source": [
    "filecollection[0]"
   ]
  },
  {
   "cell_type": "code",
   "execution_count": 8,
   "id": "8dedec73-c60e-4512-8694-b1cd4aabaa19",
   "metadata": {},
   "outputs": [],
   "source": [
    "def getfiles(city):\n",
    "    for root, dirs, files in os.walk(f\"captions_resized_1M/cities_instagram/{city}/\"):\n",
    "        for file in files:\n",
    "                yield os.path.join(root, file)"
   ]
  },
  {
   "cell_type": "code",
   "execution_count": 9,
   "id": "78ad5a78-cae3-4917-ae90-d1fb6ef7c1b5",
   "metadata": {},
   "outputs": [],
   "source": [
    "fileList = [getfiles(x) for x in listofCities]"
   ]
  },
  {
   "cell_type": "code",
   "execution_count": 10,
   "id": "2c6c54a9-e931-4e06-9279-6b655a62bff3",
   "metadata": {},
   "outputs": [],
   "source": [
    "captionCollection = []"
   ]
  },
  {
   "cell_type": "code",
   "execution_count": 11,
   "id": "5eecce0f-4948-4703-b115-d1e3a6535ede",
   "metadata": {},
   "outputs": [],
   "source": [
    "for files in fileList:\n",
    "    for file in files:\n",
    "        captionCollection.append(file)"
   ]
  },
  {
   "cell_type": "code",
   "execution_count": 12,
   "id": "846dd5be-d5b2-4724-971b-e49bd1f9c74a",
   "metadata": {},
   "outputs": [
    {
     "data": {
      "text/plain": [
       "'captions_resized_1M/cities_instagram/melbourne/1486584527942258091.txt'"
      ]
     },
     "execution_count": 12,
     "metadata": {},
     "output_type": "execute_result"
    }
   ],
   "source": [
    "captionCollection[0]"
   ]
  },
  {
   "cell_type": "code",
   "execution_count": 13,
   "id": "f65244aa-9041-4316-8650-3a5fb0f342c4",
   "metadata": {},
   "outputs": [
    {
     "data": {
      "text/plain": [
       "1000000"
      ]
     },
     "execution_count": 13,
     "metadata": {},
     "output_type": "execute_result"
    }
   ],
   "source": [
    "len(filecollection)"
   ]
  },
  {
   "cell_type": "code",
   "execution_count": 14,
   "id": "f61cd605-c2da-4ded-af8e-0e5f3535a401",
   "metadata": {},
   "outputs": [
    {
     "data": {
      "text/plain": [
       "1000000"
      ]
     },
     "execution_count": 14,
     "metadata": {},
     "output_type": "execute_result"
    }
   ],
   "source": [
    "len(captionCollection)"
   ]
  },
  {
   "cell_type": "code",
   "execution_count": 15,
   "id": "fd7cc188-f808-45eb-ace6-f438d8c9a0fe",
   "metadata": {},
   "outputs": [
    {
     "data": {
      "text/plain": [
       "'captions_resized_1M/cities_instagram/melbourne/1486619117334362723.txt'"
      ]
     },
     "execution_count": 15,
     "metadata": {},
     "output_type": "execute_result"
    }
   ],
   "source": [
    "caption = 'img_resized_1M/cities_instagram/melbourne/1486619117334362723.jpg'.replace(\"img_resized_1M\",\"captions_resized_1M\").replace(\".jpg\",\".txt\")\n",
    "caption"
   ]
  },
  {
   "cell_type": "code",
   "execution_count": 16,
   "id": "41dcd628-6ab9-4137-b8af-5bb50af9ba45",
   "metadata": {},
   "outputs": [
    {
     "name": "stdout",
     "output_type": "stream",
     "text": [
      "sucess\n"
     ]
    }
   ],
   "source": [
    "if caption in captionCollection:\n",
    "    print('sucess')"
   ]
  },
  {
   "cell_type": "code",
   "execution_count": 19,
   "id": "45beeaec-10c0-4c15-9eb3-3b36051646c2",
   "metadata": {},
   "outputs": [],
   "source": [
    "def Image_2_caption(imagePath):\n",
    "    sentence = imagePath.replace(\"img_resized_1M\",\"captions_resized_1M\").replace(\".jpg\",\".txt\")\n",
    "    print(sentence)\n",
    "    if sentence in captionCollection:\n",
    "         return {'caption':sentence,'img':imagePath}"
   ]
  },
  {
   "cell_type": "code",
   "execution_count": null,
   "id": "b65d0d28-af1c-4583-aa33-8897756fa986",
   "metadata": {},
   "outputs": [],
   "source": [
    "dataset = [Image_2_caption(image) for image in filecollection]"
   ]
  },
  {
   "cell_type": "code",
   "execution_count": 21,
   "id": "28823e99-95f7-4407-8c65-3ffaee364bea",
   "metadata": {},
   "outputs": [
    {
     "data": {
      "text/plain": [
       "{'caption': 'captions_resized_1M/cities_instagram/melbourne/1486619117334362723.txt',\n",
       " 'img': 'img_resized_1M/cities_instagram/melbourne/1486619117334362723.jpg'}"
      ]
     },
     "execution_count": 21,
     "metadata": {},
     "output_type": "execute_result"
    }
   ],
   "source": [
    "dataset[0]"
   ]
  },
  {
   "cell_type": "code",
   "execution_count": 22,
   "id": "32a240d1-858e-4416-aa49-f084fef78f2f",
   "metadata": {},
   "outputs": [],
   "source": [
    "import pandas as pd"
   ]
  },
  {
   "cell_type": "code",
   "execution_count": 23,
   "id": "017267dc-f58b-4e2c-94e7-21ac8fe58576",
   "metadata": {},
   "outputs": [],
   "source": [
    "df=pd.DataFrame(dataset)"
   ]
  },
  {
   "cell_type": "code",
   "execution_count": 24,
   "id": "656d7273-8d01-43fc-8b10-a251d62fa740",
   "metadata": {},
   "outputs": [
    {
     "data": {
      "text/html": [
       "<div>\n",
       "<style scoped>\n",
       "    .dataframe tbody tr th:only-of-type {\n",
       "        vertical-align: middle;\n",
       "    }\n",
       "\n",
       "    .dataframe tbody tr th {\n",
       "        vertical-align: top;\n",
       "    }\n",
       "\n",
       "    .dataframe thead th {\n",
       "        text-align: right;\n",
       "    }\n",
       "</style>\n",
       "<table border=\"1\" class=\"dataframe\">\n",
       "  <thead>\n",
       "    <tr style=\"text-align: right;\">\n",
       "      <th></th>\n",
       "      <th>caption</th>\n",
       "      <th>img</th>\n",
       "    </tr>\n",
       "  </thead>\n",
       "  <tbody>\n",
       "    <tr>\n",
       "      <th>0</th>\n",
       "      <td>captions_resized_1M/cities_instagram/melbourne...</td>\n",
       "      <td>img_resized_1M/cities_instagram/melbourne/1486...</td>\n",
       "    </tr>\n",
       "  </tbody>\n",
       "</table>\n",
       "</div>"
      ],
      "text/plain": [
       "                                             caption  \\\n",
       "0  captions_resized_1M/cities_instagram/melbourne...   \n",
       "\n",
       "                                                 img  \n",
       "0  img_resized_1M/cities_instagram/melbourne/1486...  "
      ]
     },
     "execution_count": 24,
     "metadata": {},
     "output_type": "execute_result"
    }
   ],
   "source": [
    "df.head(1)"
   ]
  },
  {
   "cell_type": "code",
   "execution_count": 25,
   "id": "344357ae-cc2a-4d10-9c71-a2d86b53127e",
   "metadata": {},
   "outputs": [],
   "source": [
    "df.to_csv('data.csv')"
   ]
  },
  {
   "cell_type": "code",
   "execution_count": 26,
   "id": "feb1f297-0687-4052-bb42-cd8b6683a413",
   "metadata": {},
   "outputs": [
    {
     "data": {
      "text/plain": [
       "1000000"
      ]
     },
     "execution_count": 26,
     "metadata": {},
     "output_type": "execute_result"
    }
   ],
   "source": [
    "len(df)"
   ]
  },
  {
   "cell_type": "code",
   "execution_count": null,
   "id": "54effabc-f492-4b8e-839d-61857ef4f394",
   "metadata": {},
   "outputs": [],
   "source": []
  }
 ],
 "metadata": {
  "kernelspec": {
   "display_name": "Python 3",
   "language": "python",
   "name": "python3"
  },
  "language_info": {
   "codemirror_mode": {
    "name": "ipython",
    "version": 3
   },
   "file_extension": ".py",
   "mimetype": "text/x-python",
   "name": "python",
   "nbconvert_exporter": "python",
   "pygments_lexer": "ipython3",
   "version": "3.8.5"
  }
 },
 "nbformat": 4,
 "nbformat_minor": 5
}
