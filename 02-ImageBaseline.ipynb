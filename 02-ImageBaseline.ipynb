{
 "cells": [
  {
   "cell_type": "code",
   "execution_count": 1,
   "id": "e04435b0-6db1-4482-b93b-ea67b989d85f",
   "metadata": {},
   "outputs": [
    {
     "name": "stdout",
     "output_type": "stream",
     "text": [
      "Collecting fastai\n",
      "  Downloading fastai-2.3.1-py3-none-any.whl (194 kB)\n",
      "\u001b[K     |████████████████████████████████| 194 kB 5.8 MB/s eta 0:00:01\n",
      "\u001b[?25hRequirement already satisfied: packaging in /opt/conda/lib/python3.8/site-packages (from fastai) (20.9)\n",
      "Requirement already satisfied: scikit-learn in /opt/conda/lib/python3.8/site-packages (from fastai) (0.24.1)\n",
      "Requirement already satisfied: scipy in /opt/conda/lib/python3.8/site-packages (from fastai) (1.6.0)\n",
      "Collecting fastcore<1.4,>=1.3.8\n",
      "  Downloading fastcore-1.3.20-py3-none-any.whl (53 kB)\n",
      "\u001b[K     |████████████████████████████████| 53 kB 4.5 MB/s  eta 0:00:01\n",
      "\u001b[?25hRequirement already satisfied: spacy<4 in /opt/conda/lib/python3.8/site-packages (from fastai) (2.3.5)\n",
      "Requirement already satisfied: matplotlib in /opt/conda/lib/python3.8/site-packages (from fastai) (3.4.2)\n",
      "Requirement already satisfied: torchvision>=0.8.2 in /opt/conda/lib/python3.8/site-packages (from fastai) (0.9.0a0)\n",
      "Requirement already satisfied: pyyaml in /opt/conda/lib/python3.8/site-packages (from fastai) (5.4.1)\n",
      "Requirement already satisfied: pillow>6.0.0 in /opt/conda/lib/python3.8/site-packages (from fastai) (8.2.0)\n",
      "Requirement already satisfied: pip in /opt/conda/lib/python3.8/site-packages (from fastai) (21.1.1)\n",
      "Requirement already satisfied: torch<1.9,>=1.7.0 in /opt/conda/lib/python3.8/site-packages (from fastai) (1.8.0a0+52ea372)\n",
      "Requirement already satisfied: pandas in /opt/conda/lib/python3.8/site-packages (from fastai) (1.2.4)\n",
      "Requirement already satisfied: requests in /opt/conda/lib/python3.8/site-packages (from fastai) (2.24.0)\n",
      "Requirement already satisfied: fastprogress>=0.2.4 in /opt/conda/lib/python3.8/site-packages (from fastai) (1.0.0)\n",
      "Requirement already satisfied: numpy in /opt/conda/lib/python3.8/site-packages (from fastprogress>=0.2.4->fastai) (1.19.2)\n",
      "Requirement already satisfied: murmurhash<1.1.0,>=0.28.0 in /opt/conda/lib/python3.8/site-packages (from spacy<4->fastai) (1.0.5)\n",
      "Requirement already satisfied: plac<1.2.0,>=0.9.6 in /opt/conda/lib/python3.8/site-packages (from spacy<4->fastai) (1.1.0)\n",
      "Requirement already satisfied: wasabi<1.1.0,>=0.4.0 in /opt/conda/lib/python3.8/site-packages (from spacy<4->fastai) (0.8.2)\n",
      "Requirement already satisfied: setuptools in /opt/conda/lib/python3.8/site-packages (from spacy<4->fastai) (50.3.1.post20201107)\n",
      "Requirement already satisfied: thinc<7.5.0,>=7.4.1 in /opt/conda/lib/python3.8/site-packages (from spacy<4->fastai) (7.4.5)\n",
      "Requirement already satisfied: cymem<2.1.0,>=2.0.2 in /opt/conda/lib/python3.8/site-packages (from spacy<4->fastai) (2.0.5)\n",
      "Requirement already satisfied: tqdm<5.0.0,>=4.38.0 in /opt/conda/lib/python3.8/site-packages (from spacy<4->fastai) (4.49.0)\n",
      "Requirement already satisfied: catalogue<1.1.0,>=0.0.7 in /opt/conda/lib/python3.8/site-packages (from spacy<4->fastai) (1.0.0)\n",
      "Requirement already satisfied: srsly<1.1.0,>=1.0.2 in /opt/conda/lib/python3.8/site-packages (from spacy<4->fastai) (1.0.5)\n",
      "Requirement already satisfied: preshed<3.1.0,>=3.0.2 in /opt/conda/lib/python3.8/site-packages (from spacy<4->fastai) (3.0.2)\n",
      "Requirement already satisfied: blis<0.8.0,>=0.4.0 in /opt/conda/lib/python3.8/site-packages (from spacy<4->fastai) (0.4.1)\n",
      "Requirement already satisfied: chardet<4,>=3.0.2 in /opt/conda/lib/python3.8/site-packages (from requests->fastai) (3.0.4)\n",
      "Requirement already satisfied: urllib3!=1.25.0,!=1.25.1,<1.26,>=1.21.1 in /opt/conda/lib/python3.8/site-packages (from requests->fastai) (1.25.11)\n",
      "Requirement already satisfied: idna<3,>=2.5 in /opt/conda/lib/python3.8/site-packages (from requests->fastai) (2.10)\n",
      "Requirement already satisfied: certifi>=2017.4.17 in /opt/conda/lib/python3.8/site-packages (from requests->fastai) (2020.12.5)\n",
      "Requirement already satisfied: typing-extensions in /opt/conda/lib/python3.8/site-packages (from torch<1.9,>=1.7.0->fastai) (3.7.4.3)\n",
      "Requirement already satisfied: python-dateutil>=2.7 in /opt/conda/lib/python3.8/site-packages (from matplotlib->fastai) (2.8.1)\n",
      "Requirement already satisfied: cycler>=0.10 in /opt/conda/lib/python3.8/site-packages (from matplotlib->fastai) (0.10.0)\n",
      "Requirement already satisfied: kiwisolver>=1.0.1 in /opt/conda/lib/python3.8/site-packages (from matplotlib->fastai) (1.3.1)\n",
      "Requirement already satisfied: pyparsing>=2.2.1 in /opt/conda/lib/python3.8/site-packages (from matplotlib->fastai) (2.4.7)\n",
      "Requirement already satisfied: six in /opt/conda/lib/python3.8/site-packages (from cycler>=0.10->matplotlib->fastai) (1.15.0)\n",
      "Requirement already satisfied: pytz>=2017.3 in /opt/conda/lib/python3.8/site-packages (from pandas->fastai) (2021.1)\n",
      "Requirement already satisfied: threadpoolctl>=2.0.0 in /opt/conda/lib/python3.8/site-packages (from scikit-learn->fastai) (2.1.0)\n",
      "Requirement already satisfied: joblib>=0.11 in /opt/conda/lib/python3.8/site-packages (from scikit-learn->fastai) (1.0.1)\n",
      "Installing collected packages: fastcore, fastai\n",
      "Successfully installed fastai-2.3.1 fastcore-1.3.20\n",
      "\u001b[33mWARNING: Running pip as root will break packages and permissions. You should install packages reliably by using venv: https://pip.pypa.io/warnings/venv\u001b[0m\n",
      "\u001b[33mWARNING: You are using pip version 21.1.1; however, version 21.1.2 is available.\n",
      "You should consider upgrading via the '/opt/conda/bin/python -m pip install --upgrade pip' command.\u001b[0m\n"
     ]
    }
   ],
   "source": [
    "!pip install fastai"
   ]
  },
  {
   "cell_type": "code",
   "execution_count": 2,
   "id": "dc3c18c6-de64-42ee-955a-6d80c22374c1",
   "metadata": {},
   "outputs": [],
   "source": [
    "from fastai.vision.all import *"
   ]
  },
  {
   "cell_type": "code",
   "execution_count": 5,
   "id": "48eb86a0-8366-4457-b8de-cee591d8aca7",
   "metadata": {},
   "outputs": [],
   "source": [
    "import pandas as pd"
   ]
  },
  {
   "cell_type": "code",
   "execution_count": 3,
   "id": "04ee2c91-2587-4282-bf76-b2180d08484d",
   "metadata": {},
   "outputs": [],
   "source": [
    "datablocks = DataBlock()"
   ]
  },
  {
   "cell_type": "code",
   "execution_count": 6,
   "id": "00ffe72d-e833-41ee-8e14-568908b0018e",
   "metadata": {},
   "outputs": [],
   "source": [
    "df = pd.read_csv('train.csv')"
   ]
  },
  {
   "cell_type": "code",
   "execution_count": 7,
   "id": "b7c7011d-33d7-45c9-90c2-6d930847f919",
   "metadata": {},
   "outputs": [
    {
     "data": {
      "text/plain": [
       "800000"
      ]
     },
     "execution_count": 7,
     "metadata": {},
     "output_type": "execute_result"
    }
   ],
   "source": [
    "len(df)"
   ]
  },
  {
   "cell_type": "code",
   "execution_count": 8,
   "id": "5fd64534-2131-44ec-a9a5-c43eabdea1c9",
   "metadata": {},
   "outputs": [],
   "source": [
    "y = df['label']\n",
    "x = df.fillna(0)"
   ]
  },
  {
   "cell_type": "code",
   "execution_count": 9,
   "id": "cc17c66e-7982-4740-a2a3-f24acd6c6c15",
   "metadata": {},
   "outputs": [],
   "source": [
    "from sklearn.model_selection import train_test_split"
   ]
  },
  {
   "cell_type": "code",
   "execution_count": 10,
   "id": "e9c9fc8c-f3fd-4fee-9b01-6387fd198a6f",
   "metadata": {},
   "outputs": [],
   "source": [
    "x_train, x_test, y_train, y_test = train_test_split(x,y,\n",
    "                                                    test_size=0.1,\n",
    "                                                    random_state=42,\n",
    "                                                    stratify=y)"
   ]
  },
  {
   "cell_type": "code",
   "execution_count": 15,
   "id": "0ba7fc70-3e68-4a80-a47b-5c8a8df523e4",
   "metadata": {},
   "outputs": [],
   "source": [
    "y = x_test['label']\n",
    "x = x_test.fillna(0)"
   ]
  },
  {
   "cell_type": "code",
   "execution_count": 16,
   "id": "74d6b017-3a4a-431e-be05-a340e5521f2b",
   "metadata": {},
   "outputs": [],
   "source": [
    "x_train, x_test, y_train, y_test = train_test_split(x,y,\n",
    "                                                    test_size=0.1,\n",
    "                                                    random_state=42,\n",
    "                                                    stratify=y)"
   ]
  },
  {
   "cell_type": "code",
   "execution_count": 17,
   "id": "ea114474-0a84-487b-b30a-8a8ee779319c",
   "metadata": {},
   "outputs": [
    {
     "data": {
      "text/plain": [
       "8000"
      ]
     },
     "execution_count": 17,
     "metadata": {},
     "output_type": "execute_result"
    }
   ],
   "source": [
    "len(x_test)"
   ]
  },
  {
   "cell_type": "code",
   "execution_count": 18,
   "id": "e7e38d89-4f37-46d7-ad00-ce279bba91f9",
   "metadata": {},
   "outputs": [],
   "source": [
    "x_test.to_csv('subset.csv')"
   ]
  },
  {
   "cell_type": "code",
   "execution_count": 39,
   "id": "50d04ab3-de65-4593-9f98-cf80558ada20",
   "metadata": {},
   "outputs": [],
   "source": [
    "embedding=list(x_test.caption_embedding)"
   ]
  },
  {
   "cell_type": "code",
   "execution_count": 22,
   "id": "5bd59d9c-6ee7-4304-bdba-d3205b1c3a35",
   "metadata": {},
   "outputs": [],
   "source": [
    "value=embedding[0].split(',')"
   ]
  },
  {
   "cell_type": "code",
   "execution_count": 29,
   "id": "fc3d053c-4175-434c-870f-c90ae99643b1",
   "metadata": {},
   "outputs": [],
   "source": [
    "value = [float(i) for i in value]"
   ]
  },
  {
   "cell_type": "code",
   "execution_count": 30,
   "id": "b0f7d229-94e5-440a-9f6e-0b5a815ef9a5",
   "metadata": {},
   "outputs": [
    {
     "data": {
      "text/plain": [
       "float"
      ]
     },
     "execution_count": 30,
     "metadata": {},
     "output_type": "execute_result"
    }
   ],
   "source": [
    "type(value[0])"
   ]
  },
  {
   "cell_type": "code",
   "execution_count": 38,
   "id": "168fb390-24d8-4b3e-a2c2-ab84bb72ace3",
   "metadata": {},
   "outputs": [],
   "source": [
    "def get_y(caption_embedding):\n",
    "    value=caption_embedding.split(',')\n",
    "    value.pop(0)\n",
    "    embedding_val = [float(i) for i in value]\n",
    "    return embedding_val"
   ]
  },
  {
   "cell_type": "code",
   "execution_count": 42,
   "id": "7efe2511-6a29-4d36-91ba-f5e82548cfff",
   "metadata": {},
   "outputs": [
    {
     "data": {
      "text/html": [
       "<div>\n",
       "<style scoped>\n",
       "    .dataframe tbody tr th:only-of-type {\n",
       "        vertical-align: middle;\n",
       "    }\n",
       "\n",
       "    .dataframe tbody tr th {\n",
       "        vertical-align: top;\n",
       "    }\n",
       "\n",
       "    .dataframe thead th {\n",
       "        text-align: right;\n",
       "    }\n",
       "</style>\n",
       "<table border=\"1\" class=\"dataframe\">\n",
       "  <thead>\n",
       "    <tr style=\"text-align: right;\">\n",
       "      <th></th>\n",
       "      <th>caption</th>\n",
       "      <th>img</th>\n",
       "      <th>label</th>\n",
       "      <th>caption_embedding</th>\n",
       "    </tr>\n",
       "  </thead>\n",
       "  <tbody>\n",
       "    <tr>\n",
       "      <th>484617</th>\n",
       "      <td>captions_resized_1M/cities_instagram/singapore/1482035932717737096.txt</td>\n",
       "      <td>img_resized_1M/cities_instagram/singapore/1482035932717737096.jpg</td>\n",
       "      <td>singapore</td>\n",
       "      <td>,0.45350155971180706,0.3800610459612754,0.3849763393052144,0.4705067313420381,0.7200443415374759,0.9018688458171419,0.4514048428742117,0.43210801174895436,0.686250401161629,0.47221142328592264,0.630813467100926,0.895093776698023,0.6617422366222705,0.23865608963107246,0.3940583823045318,0.5626082162489685,0.40785245677608467,0.8340910643014352,0.7785953289859912,0.3822970511166835,0.6582121043157304,0.5636783254503643,0.4314199464323862,0.2964874136299024,0.6410295859583822,0.6108022948250351,0.5292383822619953,0.37298645503169653,0.5864829065402798,0.6911801236914589,0.2987429101249909,0.9...</td>\n",
       "    </tr>\n",
       "    <tr>\n",
       "      <th>351530</th>\n",
       "      <td>captions_resized_1M/cities_instagram/toronto/1489407011283035254.txt</td>\n",
       "      <td>img_resized_1M/cities_instagram/toronto/1489407011283035254.jpg</td>\n",
       "      <td>toronto</td>\n",
       "      <td>,0.45350155971180706,0.3800610459612754,0.3849763393052144,0.4705067313420381,0.7200443415374759,0.9018688458171419,0.4514048428742117,0.43210801174895436,0.686250401161629,0.47221142328592264,0.630813467100926,0.895093776698023,0.6617422366222705,0.23865608963107246,0.3940583823045318,0.5626082162489685,0.40785245677608467,0.8340910643014352,0.7785953289859912,0.3822970511166835,0.6582121043157304,0.5636783254503643,0.4314199464323862,0.2964874136299024,0.6410295859583822,0.6108022948250351,0.5292383822619953,0.37298645503169653,0.5864829065402798,0.6911801236914589,0.2987429101249909,0.9...</td>\n",
       "    </tr>\n",
       "    <tr>\n",
       "      <th>656953</th>\n",
       "      <td>captions_resized_1M/cities_instagram/sanfrancisco/1482261340008562671.txt</td>\n",
       "      <td>img_resized_1M/cities_instagram/sanfrancisco/1482261340008562671.jpg</td>\n",
       "      <td>sanfrancisco</td>\n",
       "      <td>,0.45350155971180706,0.3800610459612754,0.3849763393052144,0.4705067313420381,0.7200443415374759,0.9018688458171419,0.4514048428742117,0.43210801174895436,0.686250401161629,0.47221142328592264,0.630813467100926,0.895093776698023,0.6617422366222705,0.23865608963107246,0.3940583823045318,0.5626082162489685,0.40785245677608467,0.8340910643014352,0.7785953289859912,0.3822970511166835,0.6582121043157304,0.5636783254503643,0.4314199464323862,0.2964874136299024,0.6410295859583822,0.6108022948250351,0.5292383822619953,0.37298645503169653,0.5864829065402798,0.6911801236914589,0.2987429101249909,0.9...</td>\n",
       "    </tr>\n",
       "    <tr>\n",
       "      <th>705342</th>\n",
       "      <td>captions_resized_1M/cities_instagram/losangeles/1490064519439121400.txt</td>\n",
       "      <td>img_resized_1M/cities_instagram/losangeles/1490064519439121400.jpg</td>\n",
       "      <td>losangeles</td>\n",
       "      <td>,0.45350155971180706,0.3800610459612754,0.3849763393052144,0.4705067313420381,0.7200443415374759,0.9018688458171419,0.4514048428742117,0.43210801174895436,0.686250401161629,0.47221142328592264,0.630813467100926,0.895093776698023,0.6617422366222705,0.23865608963107246,0.3940583823045318,0.5626082162489685,0.40785245677608467,0.8340910643014352,0.7785953289859912,0.3822970511166835,0.6582121043157304,0.5636783254503643,0.4314199464323862,0.2964874136299024,0.6410295859583822,0.6108022948250351,0.5292383822619953,0.37298645503169653,0.5864829065402798,0.6911801236914589,0.2987429101249909,0.9...</td>\n",
       "    </tr>\n",
       "    <tr>\n",
       "      <th>535400</th>\n",
       "      <td>captions_resized_1M/cities_instagram/miami/1490034567225075835.txt</td>\n",
       "      <td>img_resized_1M/cities_instagram/miami/1490034567225075835.jpg</td>\n",
       "      <td>miami</td>\n",
       "      <td>,0.45350155971180706,0.3800610459612754,0.3849763393052144,0.4705067313420381,0.7200443415374759,0.9018688458171419,0.4514048428742117,0.43210801174895436,0.686250401161629,0.47221142328592264,0.630813467100926,0.895093776698023,0.6617422366222705,0.23865608963107246,0.3940583823045318,0.5626082162489685,0.40785245677608467,0.8340910643014352,0.7785953289859912,0.3822970511166835,0.6582121043157304,0.5636783254503643,0.4314199464323862,0.2964874136299024,0.6410295859583822,0.6108022948250351,0.5292383822619953,0.37298645503169653,0.5864829065402798,0.6911801236914589,0.2987429101249909,0.9...</td>\n",
       "    </tr>\n",
       "  </tbody>\n",
       "</table>\n",
       "</div>"
      ],
      "text/plain": [
       "                                                                          caption  \\\n",
       "484617     captions_resized_1M/cities_instagram/singapore/1482035932717737096.txt   \n",
       "351530       captions_resized_1M/cities_instagram/toronto/1489407011283035254.txt   \n",
       "656953  captions_resized_1M/cities_instagram/sanfrancisco/1482261340008562671.txt   \n",
       "705342    captions_resized_1M/cities_instagram/losangeles/1490064519439121400.txt   \n",
       "535400         captions_resized_1M/cities_instagram/miami/1490034567225075835.txt   \n",
       "\n",
       "                                                                         img  \\\n",
       "484617     img_resized_1M/cities_instagram/singapore/1482035932717737096.jpg   \n",
       "351530       img_resized_1M/cities_instagram/toronto/1489407011283035254.jpg   \n",
       "656953  img_resized_1M/cities_instagram/sanfrancisco/1482261340008562671.jpg   \n",
       "705342    img_resized_1M/cities_instagram/losangeles/1490064519439121400.jpg   \n",
       "535400         img_resized_1M/cities_instagram/miami/1490034567225075835.jpg   \n",
       "\n",
       "               label  \\\n",
       "484617     singapore   \n",
       "351530       toronto   \n",
       "656953  sanfrancisco   \n",
       "705342    losangeles   \n",
       "535400         miami   \n",
       "\n",
       "                                                                                                                                                                                                                                                                                                                                                                                                                                                                                                                                                                                                              caption_embedding  \n",
       "484617  ,0.45350155971180706,0.3800610459612754,0.3849763393052144,0.4705067313420381,0.7200443415374759,0.9018688458171419,0.4514048428742117,0.43210801174895436,0.686250401161629,0.47221142328592264,0.630813467100926,0.895093776698023,0.6617422366222705,0.23865608963107246,0.3940583823045318,0.5626082162489685,0.40785245677608467,0.8340910643014352,0.7785953289859912,0.3822970511166835,0.6582121043157304,0.5636783254503643,0.4314199464323862,0.2964874136299024,0.6410295859583822,0.6108022948250351,0.5292383822619953,0.37298645503169653,0.5864829065402798,0.6911801236914589,0.2987429101249909,0.9...  \n",
       "351530  ,0.45350155971180706,0.3800610459612754,0.3849763393052144,0.4705067313420381,0.7200443415374759,0.9018688458171419,0.4514048428742117,0.43210801174895436,0.686250401161629,0.47221142328592264,0.630813467100926,0.895093776698023,0.6617422366222705,0.23865608963107246,0.3940583823045318,0.5626082162489685,0.40785245677608467,0.8340910643014352,0.7785953289859912,0.3822970511166835,0.6582121043157304,0.5636783254503643,0.4314199464323862,0.2964874136299024,0.6410295859583822,0.6108022948250351,0.5292383822619953,0.37298645503169653,0.5864829065402798,0.6911801236914589,0.2987429101249909,0.9...  \n",
       "656953  ,0.45350155971180706,0.3800610459612754,0.3849763393052144,0.4705067313420381,0.7200443415374759,0.9018688458171419,0.4514048428742117,0.43210801174895436,0.686250401161629,0.47221142328592264,0.630813467100926,0.895093776698023,0.6617422366222705,0.23865608963107246,0.3940583823045318,0.5626082162489685,0.40785245677608467,0.8340910643014352,0.7785953289859912,0.3822970511166835,0.6582121043157304,0.5636783254503643,0.4314199464323862,0.2964874136299024,0.6410295859583822,0.6108022948250351,0.5292383822619953,0.37298645503169653,0.5864829065402798,0.6911801236914589,0.2987429101249909,0.9...  \n",
       "705342  ,0.45350155971180706,0.3800610459612754,0.3849763393052144,0.4705067313420381,0.7200443415374759,0.9018688458171419,0.4514048428742117,0.43210801174895436,0.686250401161629,0.47221142328592264,0.630813467100926,0.895093776698023,0.6617422366222705,0.23865608963107246,0.3940583823045318,0.5626082162489685,0.40785245677608467,0.8340910643014352,0.7785953289859912,0.3822970511166835,0.6582121043157304,0.5636783254503643,0.4314199464323862,0.2964874136299024,0.6410295859583822,0.6108022948250351,0.5292383822619953,0.37298645503169653,0.5864829065402798,0.6911801236914589,0.2987429101249909,0.9...  \n",
       "535400  ,0.45350155971180706,0.3800610459612754,0.3849763393052144,0.4705067313420381,0.7200443415374759,0.9018688458171419,0.4514048428742117,0.43210801174895436,0.686250401161629,0.47221142328592264,0.630813467100926,0.895093776698023,0.6617422366222705,0.23865608963107246,0.3940583823045318,0.5626082162489685,0.40785245677608467,0.8340910643014352,0.7785953289859912,0.3822970511166835,0.6582121043157304,0.5636783254503643,0.4314199464323862,0.2964874136299024,0.6410295859583822,0.6108022948250351,0.5292383822619953,0.37298645503169653,0.5864829065402798,0.6911801236914589,0.2987429101249909,0.9...  "
      ]
     },
     "execution_count": 42,
     "metadata": {},
     "output_type": "execute_result"
    }
   ],
   "source": [
    "x_test.head()"
   ]
  },
  {
   "cell_type": "code",
   "execution_count": null,
   "id": "8fc448d0-6632-4702-ae7b-4f8f930179fe",
   "metadata": {},
   "outputs": [],
   "source": []
  }
 ],
 "metadata": {
  "kernelspec": {
   "display_name": "Python 3",
   "language": "python",
   "name": "python3"
  },
  "language_info": {
   "codemirror_mode": {
    "name": "ipython",
    "version": 3
   },
   "file_extension": ".py",
   "mimetype": "text/x-python",
   "name": "python",
   "nbconvert_exporter": "python",
   "pygments_lexer": "ipython3",
   "version": "3.8.5"
  }
 },
 "nbformat": 4,
 "nbformat_minor": 5
}
