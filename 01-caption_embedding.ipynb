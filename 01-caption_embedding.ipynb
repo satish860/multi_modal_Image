{
 "cells": [
  {
   "cell_type": "code",
   "execution_count": 1,
   "id": "1c381b59-1e8d-420c-9a6c-f9605ac2e6f8",
   "metadata": {},
   "outputs": [],
   "source": [
    "import pandas as pd"
   ]
  },
  {
   "cell_type": "code",
   "execution_count": 8,
   "id": "b361796f-3114-4644-95f8-06ee0c491f33",
   "metadata": {},
   "outputs": [],
   "source": [
    "df = pd.read_csv('data.csv',index_col=0)"
   ]
  },
  {
   "cell_type": "code",
   "execution_count": 3,
   "id": "2f8db693-4231-40af-b05f-0d0868dc92a7",
   "metadata": {},
   "outputs": [],
   "source": [
    "import gensim.models"
   ]
  },
  {
   "cell_type": "code",
   "execution_count": 4,
   "id": "b3eadfa2-c4ee-45df-b4b2-90d72b597c9a",
   "metadata": {},
   "outputs": [],
   "source": [
    "model = gensim.models.Word2Vec.load('word2vec.fullmodel')"
   ]
  },
  {
   "cell_type": "code",
   "execution_count": 6,
   "id": "847d9b54-3a0c-4103-99ef-af01961375bd",
   "metadata": {},
   "outputs": [
    {
     "data": {
      "text/plain": [
       "211464"
      ]
     },
     "execution_count": 6,
     "metadata": {},
     "output_type": "execute_result"
    }
   ],
   "source": [
    "len(model.wv)"
   ]
  },
  {
   "cell_type": "code",
   "execution_count": 10,
   "id": "fb555929-e049-4059-8fec-e1781b156f66",
   "metadata": {},
   "outputs": [],
   "source": [
    "captions=list(df['caption'])"
   ]
  },
  {
   "cell_type": "code",
   "execution_count": 12,
   "id": "3e532b32-17c5-445a-913b-abcf6dc50d50",
   "metadata": {},
   "outputs": [],
   "source": [
    "from gensim.parsing.preprocessing import remove_stopwords, preprocess_string,strip_non_alphanum,strip_numeric"
   ]
  },
  {
   "cell_type": "code",
   "execution_count": 18,
   "id": "8cef1a52-158f-4ca5-b53a-a28a35645c89",
   "metadata": {},
   "outputs": [],
   "source": [
    "for line in open(f'{captions[0]}'):\n",
    "    CUSTOM_FILTERS = [lambda x: x.lower(), remove_stopwords, strip_non_alphanum,strip_numeric]\n",
    "    tokens=preprocess_string(line,CUSTOM_FILTERS)\n",
    "    tokens_filtered_in_vocab = [token for token in tokens if token in model.wv.index_to_key] # Filter out out of vocab tokens"
   ]
  },
  {
   "cell_type": "code",
   "execution_count": 20,
   "id": "2b80121b-2ea0-407a-929d-fbe3058f0f8b",
   "metadata": {},
   "outputs": [],
   "source": [
    "import numpy as np"
   ]
  },
  {
   "cell_type": "code",
   "execution_count": 29,
   "id": "3fa633f3-ff4d-4b00-832d-04c14d1ddca1",
   "metadata": {},
   "outputs": [],
   "source": []
  },
  {
   "cell_type": "code",
   "execution_count": 32,
   "id": "68d6ae73-18d9-4554-a003-83b2b3584afa",
   "metadata": {},
   "outputs": [],
   "source": []
  },
  {
   "cell_type": "code",
   "execution_count": 34,
   "id": "7df8e61a-72bd-424b-87ed-a61ec8488de7",
   "metadata": {},
   "outputs": [
    {
     "data": {
      "text/plain": [
       "-2.0413594484329223"
      ]
     },
     "execution_count": 34,
     "metadata": {},
     "output_type": "execute_result"
    }
   ],
   "source": []
  },
  {
   "cell_type": "code",
   "execution_count": 38,
   "id": "509df086-0c1f-4347-a05c-5b13f330226f",
   "metadata": {},
   "outputs": [],
   "source": [
    "embedding = embedding - min(embedding)"
   ]
  },
  {
   "cell_type": "code",
   "execution_count": 42,
   "id": "4a3c4de7-bd22-4a93-b1d1-b155619d7407",
   "metadata": {},
   "outputs": [],
   "source": [
    "embedding = embedding / max(embedding)"
   ]
  },
  {
   "cell_type": "code",
   "execution_count": 45,
   "id": "620bfdce-dbf7-4b7d-bc31-249415130298",
   "metadata": {},
   "outputs": [],
   "source": []
  },
  {
   "cell_type": "code",
   "execution_count": 46,
   "id": "99592019-9957-40e3-852f-4fba4ac41816",
   "metadata": {},
   "outputs": [
    {
     "data": {
      "text/plain": [
       "',0.45350155971180706,0.3800610459612754,0.3849763393052144,0.4705067313420381,0.7200443415374759,0.9018688458171419,0.4514048428742117,0.43210801174895436,0.686250401161629,0.47221142328592264,0.630813467100926,0.895093776698023,0.6617422366222705,0.23865608963107246,0.3940583823045318,0.5626082162489685,0.40785245677608467,0.8340910643014352,0.7785953289859912,0.3822970511166835,0.6582121043157304,0.5636783254503643,0.4314199464323862,0.2964874136299024,0.6410295859583822,0.6108022948250351,0.5292383822619953,0.37298645503169653,0.5864829065402798,0.6911801236914589,0.2987429101249909,0.9106751308152344,0.59617363161106,0.8051101855894898,0.517831534792387,0.7721364502025226,0.6935711666971768,0.7159768414209182,0.30862786974602785,0.7265715974947003,0.8403294525560068,0.7603411436646158,0.5481821628127233,0.5099791662997941,0.5266046691720943,0.5722608556876108,0.5697325421978203,0.5484527140943732,0.7218214836298965,0.4317554613221428,0.7146369973093666,0.7070353758790385,0.6674453476863742,0.5603234110558233,0.5716699916659714,0.4382195679346385,0.8197054415275795,0.5385264863300002,0.6637308080634156,0.6221690642228094,0.7313458135469908,0.6466469412308232,0.8532486355334888,0.41720362481048895,0.6252482828994602,0.5268746536335978,0.692099444939616,0.6431314996923421,0.4028565608549111,0.47857986666744873,0.4372098202717316,0.5316784284578037,0.36559174991638316,0.7864821531209348,0.42372048143636604,0.3324240144821845,0.48764795610975503,0.6730255039236761,0.4846381315181516,0.5907688802925143,0.23075769835225618,0.6542978457082388,0.3676520548297066,0.7286275322288751,0.3894971601039918,0.40498456587198167,0.5586714329675452,0.8928252686291093,0.5456655365398785,0.4332163574837217,0.49556432135573586,0.9336567315925091,0.6052262791754619,0.44714428114053206,0.6682282742837271,0.47879787422313785,0.5381713208391504,0.501966036996254,0.37980779105426987,0.6078097856274837,0.5457347003019904,0.46249279193713827,0.4537285410837964,0.703762733798513,0.5144482054029403,0.7861649491135625,0.7303720566643312,0.2851924500198561,0.48319229371125855,0.7333635657754518,0.6588871844452887,0.5385530637575285,0.7638797332851377,0.4987098889221787,0.4131080071646501,0.9039030379198933,0.6791670158852834,0.4363136893245201,0.716141926534531,0.4425819677276084,0.5556134474739006,0.41964984280405304,0.4721822429166158,0.733193826236599,0.5222276095959795,0.3843867503153978,0.5870631740348459,0.7943384375214418,0.6729839337688683,0.6656120837113165,0.9182337109082287,0.5112463186536323,0.5790741642661639,0.854983712130487,1.0,0.5228945174936648,0.6405011444683968,0.7158507734724052,0.7049032515926961,0.4349112684360092,0.4268949417819529,0.22880452976175958,0.0,0.8359704141820687,0.6468837462313232,0.7028885997366732,0.7356815830342992,0.5374122648523214,0.6025457718638063,0.6979754449265607,0.5533994249915597,0.783564050980854,0.506088719624819,0.7075276999320624,0.5816852271226924,0.6039253452187169,0.6169380041952984,0.7948043845822326,0.42000384508047633,0.4543330347055047,0.6329554294370884,0.5019508160360837,0.7052460632468153,0.6914315928641979,0.5502598144707705,0.44623774783140796,0.522271436999158,0.472313284962719,0.5900744060626093,0.47011914967454127,0.5355233785153307,0.6226123225934035,0.5839452276642983,0.6359089243956026,0.3535264894316267,0.3989166190978046,0.5739993049898826,0.7751475075025418,0.37494819949396574,0.44089384942088067,0.4962176258834143,0.40196954725782547,0.5667537816283886,0.29435539698086644,0.35229993243570734,0.26763850996005323,0.3982462163317277,0.591616315286219,0.5339828909401856,0.4068913822851964,0.37713299019189805,0.3907286775077078,0.47013457671312764,0.4481073216581754,0.3007170326031963,0.4194025366870244,0.6841769211676639,0.46189168502400374,0.3806426526520391,0.5147712795101032,0.3166678860127294,0.5289239534160919,0.6547276918434219,0.5491939403271279,0.9203143187256235,0.5033263204918017,0.39888181969533737,0.6279348709874208,0.753714734415133,0.429685490996699,0.35904255402750723,0.575431878327531,0.5829903831789128,0.49788191433549145,0.663519584793107,0.6732182269535426,0.6768949668624903,0.6913189845951125,0.7082061287836307,0.6398841168480971,0.5228123247058536,0.6480625986342295,0.6910293094036559,0.5374726997513823,0.4332121340257172,0.829981833096621,0.4502868626599868,0.6371292982030222,0.6645814404076364,0.8208671101570043,0.3789670044930345,0.4353175447703645,0.5560527556598462,0.741958733259502,0.6209013291644844,0.6196115278313006,0.5333123009060956,0.47913675910111003,0.7208858650485034,0.7519780434675408,0.5533195606181441,0.7883061184867324,0.6282169743646209,0.3355024460479684,0.812919997426135,0.6230919634186383,0.6613174300030792,0.4178116238553151,0.5141026290375761,0.3329194322978798,0.7628312915780552,0.5319687060001681,0.4488494059326921,0.8596270149879353,0.3943723585512363,0.5342278191087572,0.38501696956688125,0.29387203315885146,0.8375409467780495,0.5314907884168608,0.38551204955296214,0.5654496425879617,0.421558410361293,0.739919933026003,0.6878015278354472,0.5001725357052718,0.6450965974224685,0.5949254572819024,0.7212309774239247,0.405536468532717,0.6434137368324084,0.6802931623225024,0.6728136465337791,0.6083873249865884,0.5460911942253073,0.5742384309851193,0.28151587731449135,0.7070282243727888,0.8622380485838369,0.6881498321272682,0.6464537270404317,0.46665820709891975,0.6964782843978718,0.4663603412309449,0.6663477157301927,0.6186926569877952,0.8134325104921178,0.39364172686001225,0.24917996841952356,0.6623346412159227,0.3725406417903539,0.4856173049608828,0.4902382501912291,0.45874321981946736,0.49022209999714617,0.39149360599787875,0.7141572266923506,0.6023711059848871,0.44670315064453603,0.9203990424531704'"
      ]
     },
     "execution_count": 46,
     "metadata": {},
     "output_type": "execute_result"
    }
   ],
   "source": [
    "out_string"
   ]
  },
  {
   "cell_type": "code",
   "execution_count": 58,
   "id": "32856a1f-ceb0-4a72-9e58-e30737ddfd06",
   "metadata": {},
   "outputs": [],
   "source": [
    "def caption_2_represention(captionfile):\n",
    "    size=300\n",
    "    for line in open(f'{captions[0]}'):\n",
    "        CUSTOM_FILTERS = [lambda x: x.lower(), remove_stopwords, strip_non_alphanum,strip_numeric]\n",
    "        tokens=preprocess_string(line,CUSTOM_FILTERS)\n",
    "        tokens_filtered_in_vocab = [token for token in tokens if token in model.wv.index_to_key] \n",
    "        embedding = np.zeros(size)\n",
    "        for tok in tokens_filtered_in_vocab:\n",
    "            embedding += model.wv[tok]\n",
    "            \n",
    "        if len(tokens_filtered_in_vocab) > 1:\n",
    "            embedding /= len(tokens_filtered_in_vocab)\n",
    "            \n",
    "        if min(embedding) < 0:\n",
    "            embedding = embedding - min(embedding)\n",
    "        if max(embedding) > 0:\n",
    "            embedding = embedding / max(embedding)\n",
    "        out_string = ''\n",
    "        for t in range(0,300):\n",
    "            out_string = out_string + ','+ str(embedding[t])\n",
    "        return out_string"
   ]
  },
  {
   "cell_type": "code",
   "execution_count": 59,
   "id": "c9c7ad1e-a582-46c4-b7ec-db8c0eaa04e0",
   "metadata": {},
   "outputs": [
    {
     "name": "stdout",
     "output_type": "stream",
     "text": [
      "INFO: Pandarallel will run on 64 workers.\n",
      "INFO: Pandarallel will use Memory file system to transfer data between the main process and workers.\n"
     ]
    }
   ],
   "source": [
    "from pandarallel import pandarallel\n",
    "pandarallel.initialize()"
   ]
  },
  {
   "cell_type": "code",
   "execution_count": 60,
   "id": "72b5ba7f-0feb-423c-8563-8cbfe709a59f",
   "metadata": {},
   "outputs": [],
   "source": [
    "train_df = pd.read_csv('train.csv',index_col=0)"
   ]
  },
  {
   "cell_type": "code",
   "execution_count": 61,
   "id": "64b336fb-e990-40b8-b716-1789532ddb61",
   "metadata": {},
   "outputs": [
    {
     "data": {
      "text/html": [
       "<div>\n",
       "<style scoped>\n",
       "    .dataframe tbody tr th:only-of-type {\n",
       "        vertical-align: middle;\n",
       "    }\n",
       "\n",
       "    .dataframe tbody tr th {\n",
       "        vertical-align: top;\n",
       "    }\n",
       "\n",
       "    .dataframe thead th {\n",
       "        text-align: right;\n",
       "    }\n",
       "</style>\n",
       "<table border=\"1\" class=\"dataframe\">\n",
       "  <thead>\n",
       "    <tr style=\"text-align: right;\">\n",
       "      <th></th>\n",
       "      <th>caption</th>\n",
       "      <th>img</th>\n",
       "      <th>label</th>\n",
       "    </tr>\n",
       "  </thead>\n",
       "  <tbody>\n",
       "    <tr>\n",
       "      <th>656029</th>\n",
       "      <td>captions_resized_1M/cities_instagram/chicago/1...</td>\n",
       "      <td>img_resized_1M/cities_instagram/chicago/148202...</td>\n",
       "      <td>chicago</td>\n",
       "    </tr>\n",
       "    <tr>\n",
       "      <th>595442</th>\n",
       "      <td>captions_resized_1M/cities_instagram/miami/148...</td>\n",
       "      <td>img_resized_1M/cities_instagram/miami/14898629...</td>\n",
       "      <td>miami</td>\n",
       "    </tr>\n",
       "    <tr>\n",
       "      <th>245192</th>\n",
       "      <td>captions_resized_1M/cities_instagram/london/14...</td>\n",
       "      <td>img_resized_1M/cities_instagram/london/1490670...</td>\n",
       "      <td>london</td>\n",
       "    </tr>\n",
       "    <tr>\n",
       "      <th>841946</th>\n",
       "      <td>captions_resized_1M/cities_instagram/losangele...</td>\n",
       "      <td>img_resized_1M/cities_instagram/losangeles/149...</td>\n",
       "      <td>losangeles</td>\n",
       "    </tr>\n",
       "    <tr>\n",
       "      <th>302005</th>\n",
       "      <td>captions_resized_1M/cities_instagram/sydney/14...</td>\n",
       "      <td>img_resized_1M/cities_instagram/sydney/1480253...</td>\n",
       "      <td>sydney</td>\n",
       "    </tr>\n",
       "  </tbody>\n",
       "</table>\n",
       "</div>"
      ],
      "text/plain": [
       "                                                  caption  \\\n",
       "656029  captions_resized_1M/cities_instagram/chicago/1...   \n",
       "595442  captions_resized_1M/cities_instagram/miami/148...   \n",
       "245192  captions_resized_1M/cities_instagram/london/14...   \n",
       "841946  captions_resized_1M/cities_instagram/losangele...   \n",
       "302005  captions_resized_1M/cities_instagram/sydney/14...   \n",
       "\n",
       "                                                      img       label  \n",
       "656029  img_resized_1M/cities_instagram/chicago/148202...     chicago  \n",
       "595442  img_resized_1M/cities_instagram/miami/14898629...       miami  \n",
       "245192  img_resized_1M/cities_instagram/london/1490670...      london  \n",
       "841946  img_resized_1M/cities_instagram/losangeles/149...  losangeles  \n",
       "302005  img_resized_1M/cities_instagram/sydney/1480253...      sydney  "
      ]
     },
     "execution_count": 61,
     "metadata": {},
     "output_type": "execute_result"
    }
   ],
   "source": [
    "train_df.head()"
   ]
  },
  {
   "cell_type": "code",
   "execution_count": 62,
   "id": "387ff911-2972-4f11-98d8-950493ac5aef",
   "metadata": {},
   "outputs": [],
   "source": [
    "train_df['caption_embedding'] = train_df['caption'].parallel_apply(caption_2_represention)"
   ]
  },
  {
   "cell_type": "code",
   "execution_count": 63,
   "id": "f7aa7c9a-4c04-4083-9c95-3da8c3b1b6e0",
   "metadata": {},
   "outputs": [
    {
     "data": {
      "text/html": [
       "<div>\n",
       "<style scoped>\n",
       "    .dataframe tbody tr th:only-of-type {\n",
       "        vertical-align: middle;\n",
       "    }\n",
       "\n",
       "    .dataframe tbody tr th {\n",
       "        vertical-align: top;\n",
       "    }\n",
       "\n",
       "    .dataframe thead th {\n",
       "        text-align: right;\n",
       "    }\n",
       "</style>\n",
       "<table border=\"1\" class=\"dataframe\">\n",
       "  <thead>\n",
       "    <tr style=\"text-align: right;\">\n",
       "      <th></th>\n",
       "      <th>caption</th>\n",
       "      <th>img</th>\n",
       "      <th>label</th>\n",
       "      <th>caption_embedding</th>\n",
       "    </tr>\n",
       "  </thead>\n",
       "  <tbody>\n",
       "    <tr>\n",
       "      <th>656029</th>\n",
       "      <td>captions_resized_1M/cities_instagram/chicago/1...</td>\n",
       "      <td>img_resized_1M/cities_instagram/chicago/148202...</td>\n",
       "      <td>chicago</td>\n",
       "      <td>,0.45350155971180706,0.3800610459612754,0.3849...</td>\n",
       "    </tr>\n",
       "    <tr>\n",
       "      <th>595442</th>\n",
       "      <td>captions_resized_1M/cities_instagram/miami/148...</td>\n",
       "      <td>img_resized_1M/cities_instagram/miami/14898629...</td>\n",
       "      <td>miami</td>\n",
       "      <td>,0.45350155971180706,0.3800610459612754,0.3849...</td>\n",
       "    </tr>\n",
       "    <tr>\n",
       "      <th>245192</th>\n",
       "      <td>captions_resized_1M/cities_instagram/london/14...</td>\n",
       "      <td>img_resized_1M/cities_instagram/london/1490670...</td>\n",
       "      <td>london</td>\n",
       "      <td>,0.45350155971180706,0.3800610459612754,0.3849...</td>\n",
       "    </tr>\n",
       "    <tr>\n",
       "      <th>841946</th>\n",
       "      <td>captions_resized_1M/cities_instagram/losangele...</td>\n",
       "      <td>img_resized_1M/cities_instagram/losangeles/149...</td>\n",
       "      <td>losangeles</td>\n",
       "      <td>,0.45350155971180706,0.3800610459612754,0.3849...</td>\n",
       "    </tr>\n",
       "    <tr>\n",
       "      <th>302005</th>\n",
       "      <td>captions_resized_1M/cities_instagram/sydney/14...</td>\n",
       "      <td>img_resized_1M/cities_instagram/sydney/1480253...</td>\n",
       "      <td>sydney</td>\n",
       "      <td>,0.45350155971180706,0.3800610459612754,0.3849...</td>\n",
       "    </tr>\n",
       "  </tbody>\n",
       "</table>\n",
       "</div>"
      ],
      "text/plain": [
       "                                                  caption  \\\n",
       "656029  captions_resized_1M/cities_instagram/chicago/1...   \n",
       "595442  captions_resized_1M/cities_instagram/miami/148...   \n",
       "245192  captions_resized_1M/cities_instagram/london/14...   \n",
       "841946  captions_resized_1M/cities_instagram/losangele...   \n",
       "302005  captions_resized_1M/cities_instagram/sydney/14...   \n",
       "\n",
       "                                                      img       label  \\\n",
       "656029  img_resized_1M/cities_instagram/chicago/148202...     chicago   \n",
       "595442  img_resized_1M/cities_instagram/miami/14898629...       miami   \n",
       "245192  img_resized_1M/cities_instagram/london/1490670...      london   \n",
       "841946  img_resized_1M/cities_instagram/losangeles/149...  losangeles   \n",
       "302005  img_resized_1M/cities_instagram/sydney/1480253...      sydney   \n",
       "\n",
       "                                        caption_embedding  \n",
       "656029  ,0.45350155971180706,0.3800610459612754,0.3849...  \n",
       "595442  ,0.45350155971180706,0.3800610459612754,0.3849...  \n",
       "245192  ,0.45350155971180706,0.3800610459612754,0.3849...  \n",
       "841946  ,0.45350155971180706,0.3800610459612754,0.3849...  \n",
       "302005  ,0.45350155971180706,0.3800610459612754,0.3849...  "
      ]
     },
     "execution_count": 63,
     "metadata": {},
     "output_type": "execute_result"
    }
   ],
   "source": [
    "train_df.head()"
   ]
  },
  {
   "cell_type": "code",
   "execution_count": 65,
   "id": "7813d73f-d46c-4a37-9ddc-c219361ab8e9",
   "metadata": {},
   "outputs": [],
   "source": [
    "train_df.to_csv('train.csv',index=False)"
   ]
  },
  {
   "cell_type": "code",
   "execution_count": 66,
   "id": "5ed62809-5eec-4982-abf6-c7bdb8a69395",
   "metadata": {},
   "outputs": [],
   "source": [
    "test_df = pd.read_csv('test.csv',index_col=0)"
   ]
  },
  {
   "cell_type": "code",
   "execution_count": 67,
   "id": "9cd692f9-6b86-4cb5-80cd-73e195086a19",
   "metadata": {},
   "outputs": [],
   "source": [
    "test_df['caption_embedding'] = test_df['caption'].parallel_apply(caption_2_represention)"
   ]
  },
  {
   "cell_type": "code",
   "execution_count": 68,
   "id": "cd92fb12-65a2-4a3d-8ba6-7d8a3cbf9ab6",
   "metadata": {},
   "outputs": [],
   "source": [
    "test_df.to_csv('test.csv',index=False)"
   ]
  },
  {
   "cell_type": "code",
   "execution_count": 69,
   "id": "e8f64748-789e-4806-89f3-1bbbd8221768",
   "metadata": {},
   "outputs": [],
   "source": [
    "val_df = pd.read_csv('val.csv',index_col=0)"
   ]
  },
  {
   "cell_type": "code",
   "execution_count": 70,
   "id": "84a311a3-2254-482e-b698-2174d437366c",
   "metadata": {},
   "outputs": [],
   "source": [
    "val_df['caption_embedding'] = val_df['caption'].parallel_apply(caption_2_represention)"
   ]
  },
  {
   "cell_type": "code",
   "execution_count": 71,
   "id": "292a18f1-259f-43f1-9b79-d9c8eb0ea571",
   "metadata": {},
   "outputs": [],
   "source": [
    "val_df.to_csv('val.csv',index=False)"
   ]
  },
  {
   "cell_type": "code",
   "execution_count": null,
   "id": "54df1c3a-63e8-4fe9-93e9-d329a5b851d4",
   "metadata": {},
   "outputs": [],
   "source": []
  }
 ],
 "metadata": {
  "kernelspec": {
   "display_name": "Python 3",
   "language": "python",
   "name": "python3"
  },
  "language_info": {
   "codemirror_mode": {
    "name": "ipython",
    "version": 3
   },
   "file_extension": ".py",
   "mimetype": "text/x-python",
   "name": "python",
   "nbconvert_exporter": "python",
   "pygments_lexer": "ipython3",
   "version": "3.8.5"
  }
 },
 "nbformat": 4,
 "nbformat_minor": 5
}
