{
 "cells": [
  {
   "cell_type": "code",
   "execution_count": 1,
   "id": "1c381b59-1e8d-420c-9a6c-f9605ac2e6f8",
   "metadata": {},
   "outputs": [],
   "source": [
    "import pandas as pd"
   ]
  },
  {
   "cell_type": "code",
   "execution_count": 2,
   "id": "b361796f-3114-4644-95f8-06ee0c491f33",
   "metadata": {},
   "outputs": [],
   "source": [
    "df = pd.read_csv('data.csv',index_col=0)"
   ]
  },
  {
   "cell_type": "code",
   "execution_count": 3,
   "id": "2f8db693-4231-40af-b05f-0d0868dc92a7",
   "metadata": {},
   "outputs": [],
   "source": [
    "import gensim.models"
   ]
  },
  {
   "cell_type": "code",
   "execution_count": 4,
   "id": "b3eadfa2-c4ee-45df-b4b2-90d72b597c9a",
   "metadata": {},
   "outputs": [],
   "source": [
    "model = gensim.models.Word2Vec.load('word2vec.fullmodel')"
   ]
  },
  {
   "cell_type": "code",
   "execution_count": 5,
   "id": "847d9b54-3a0c-4103-99ef-af01961375bd",
   "metadata": {},
   "outputs": [
    {
     "data": {
      "text/plain": [
       "211464"
      ]
     },
     "execution_count": 5,
     "metadata": {},
     "output_type": "execute_result"
    }
   ],
   "source": [
    "len(model.wv)"
   ]
  },
  {
   "cell_type": "code",
   "execution_count": 6,
   "id": "fb555929-e049-4059-8fec-e1781b156f66",
   "metadata": {},
   "outputs": [],
   "source": [
    "captions=list(df['caption'])"
   ]
  },
  {
   "cell_type": "code",
   "execution_count": 7,
   "id": "3e532b32-17c5-445a-913b-abcf6dc50d50",
   "metadata": {},
   "outputs": [],
   "source": [
    "from gensim.parsing.preprocessing import remove_stopwords, preprocess_string,strip_non_alphanum,strip_numeric"
   ]
  },
  {
   "cell_type": "code",
   "execution_count": 20,
   "id": "509df086-0c1f-4347-a05c-5b13f330226f",
   "metadata": {},
   "outputs": [],
   "source": [
    "import numpy as np"
   ]
  },
  {
   "cell_type": "code",
   "execution_count": 21,
   "id": "32856a1f-ceb0-4a72-9e58-e30737ddfd06",
   "metadata": {},
   "outputs": [],
   "source": [
    "def caption_2_represention(captionfile):\n",
    "    size=300\n",
    "    for line in open(f'{captionfile}'):\n",
    "        CUSTOM_FILTERS = [lambda x: x.lower(), remove_stopwords, strip_non_alphanum,strip_numeric]\n",
    "        tokens=preprocess_string(line,CUSTOM_FILTERS)\n",
    "        tokens_filtered_in_vocab = [token for token in tokens if token in model.wv.index_to_key] \n",
    "        embedding = np.zeros(size)\n",
    "        for tok in tokens_filtered_in_vocab:\n",
    "            embedding += model.wv[tok]\n",
    "            \n",
    "        if len(tokens_filtered_in_vocab) > 1:\n",
    "            embedding /= len(tokens_filtered_in_vocab)\n",
    "            \n",
    "        if min(embedding) < 0:\n",
    "            embedding = embedding - min(embedding)\n",
    "        if max(embedding) > 0:\n",
    "            embedding = embedding / max(embedding)\n",
    "        out_string = ''\n",
    "        for t in range(0,300):\n",
    "            out_string = out_string + ','+ str(embedding[t])\n",
    "        return out_string"
   ]
  },
  {
   "cell_type": "code",
   "execution_count": 22,
   "id": "c9c7ad1e-a582-46c4-b7ec-db8c0eaa04e0",
   "metadata": {},
   "outputs": [
    {
     "name": "stdout",
     "output_type": "stream",
     "text": [
      "INFO: Pandarallel will run on 64 workers.\n",
      "INFO: Pandarallel will use Memory file system to transfer data between the main process and workers.\n"
     ]
    }
   ],
   "source": [
    "from pandarallel import pandarallel\n",
    "pandarallel.initialize()"
   ]
  },
  {
   "cell_type": "code",
   "execution_count": 23,
   "id": "72b5ba7f-0feb-423c-8563-8cbfe709a59f",
   "metadata": {},
   "outputs": [],
   "source": [
    "train_df = pd.read_csv('train.csv')"
   ]
  },
  {
   "cell_type": "code",
   "execution_count": 17,
   "id": "64b336fb-e990-40b8-b716-1789532ddb61",
   "metadata": {},
   "outputs": [
    {
     "data": {
      "text/html": [
       "<div>\n",
       "<style scoped>\n",
       "    .dataframe tbody tr th:only-of-type {\n",
       "        vertical-align: middle;\n",
       "    }\n",
       "\n",
       "    .dataframe tbody tr th {\n",
       "        vertical-align: top;\n",
       "    }\n",
       "\n",
       "    .dataframe thead th {\n",
       "        text-align: right;\n",
       "    }\n",
       "</style>\n",
       "<table border=\"1\" class=\"dataframe\">\n",
       "  <thead>\n",
       "    <tr style=\"text-align: right;\">\n",
       "      <th></th>\n",
       "      <th>caption</th>\n",
       "      <th>img</th>\n",
       "      <th>label</th>\n",
       "      <th>caption_embedding</th>\n",
       "    </tr>\n",
       "  </thead>\n",
       "  <tbody>\n",
       "    <tr>\n",
       "      <th>0</th>\n",
       "      <td>captions_resized_1M/cities_instagram/chicago/1...</td>\n",
       "      <td>img_resized_1M/cities_instagram/chicago/148202...</td>\n",
       "      <td>chicago</td>\n",
       "      <td>,0.45350155971180706,0.3800610459612754,0.3849...</td>\n",
       "    </tr>\n",
       "    <tr>\n",
       "      <th>1</th>\n",
       "      <td>captions_resized_1M/cities_instagram/miami/148...</td>\n",
       "      <td>img_resized_1M/cities_instagram/miami/14898629...</td>\n",
       "      <td>miami</td>\n",
       "      <td>,0.45350155971180706,0.3800610459612754,0.3849...</td>\n",
       "    </tr>\n",
       "    <tr>\n",
       "      <th>2</th>\n",
       "      <td>captions_resized_1M/cities_instagram/london/14...</td>\n",
       "      <td>img_resized_1M/cities_instagram/london/1490670...</td>\n",
       "      <td>london</td>\n",
       "      <td>,0.45350155971180706,0.3800610459612754,0.3849...</td>\n",
       "    </tr>\n",
       "    <tr>\n",
       "      <th>3</th>\n",
       "      <td>captions_resized_1M/cities_instagram/losangele...</td>\n",
       "      <td>img_resized_1M/cities_instagram/losangeles/149...</td>\n",
       "      <td>losangeles</td>\n",
       "      <td>,0.45350155971180706,0.3800610459612754,0.3849...</td>\n",
       "    </tr>\n",
       "    <tr>\n",
       "      <th>4</th>\n",
       "      <td>captions_resized_1M/cities_instagram/sydney/14...</td>\n",
       "      <td>img_resized_1M/cities_instagram/sydney/1480253...</td>\n",
       "      <td>sydney</td>\n",
       "      <td>,0.45350155971180706,0.3800610459612754,0.3849...</td>\n",
       "    </tr>\n",
       "  </tbody>\n",
       "</table>\n",
       "</div>"
      ],
      "text/plain": [
       "                                             caption  \\\n",
       "0  captions_resized_1M/cities_instagram/chicago/1...   \n",
       "1  captions_resized_1M/cities_instagram/miami/148...   \n",
       "2  captions_resized_1M/cities_instagram/london/14...   \n",
       "3  captions_resized_1M/cities_instagram/losangele...   \n",
       "4  captions_resized_1M/cities_instagram/sydney/14...   \n",
       "\n",
       "                                                 img       label  \\\n",
       "0  img_resized_1M/cities_instagram/chicago/148202...     chicago   \n",
       "1  img_resized_1M/cities_instagram/miami/14898629...       miami   \n",
       "2  img_resized_1M/cities_instagram/london/1490670...      london   \n",
       "3  img_resized_1M/cities_instagram/losangeles/149...  losangeles   \n",
       "4  img_resized_1M/cities_instagram/sydney/1480253...      sydney   \n",
       "\n",
       "                                   caption_embedding  \n",
       "0  ,0.45350155971180706,0.3800610459612754,0.3849...  \n",
       "1  ,0.45350155971180706,0.3800610459612754,0.3849...  \n",
       "2  ,0.45350155971180706,0.3800610459612754,0.3849...  \n",
       "3  ,0.45350155971180706,0.3800610459612754,0.3849...  \n",
       "4  ,0.45350155971180706,0.3800610459612754,0.3849...  "
      ]
     },
     "execution_count": 17,
     "metadata": {},
     "output_type": "execute_result"
    }
   ],
   "source": [
    "train_df.head()"
   ]
  },
  {
   "cell_type": "code",
   "execution_count": 18,
   "id": "fbf3fb3d-7e3e-421e-989a-d3142ebdee98",
   "metadata": {},
   "outputs": [
    {
     "data": {
      "text/plain": [
       "Index(['caption', 'img', 'label', 'caption_embedding'], dtype='object')"
      ]
     },
     "execution_count": 18,
     "metadata": {},
     "output_type": "execute_result"
    }
   ],
   "source": [
    "train_df.columns"
   ]
  },
  {
   "cell_type": "code",
   "execution_count": 24,
   "id": "387ff911-2972-4f11-98d8-950493ac5aef",
   "metadata": {},
   "outputs": [],
   "source": [
    "train_df['caption_embedding'] = train_df['caption'].parallel_apply(caption_2_represention)test"
   ]
  },
  {
   "cell_type": "code",
   "execution_count": 25,
   "id": "f7aa7c9a-4c04-4083-9c95-3da8c3b1b6e0",
   "metadata": {},
   "outputs": [
    {
     "data": {
      "text/html": [
       "<div>\n",
       "<style scoped>\n",
       "    .dataframe tbody tr th:only-of-type {\n",
       "        vertical-align: middle;\n",
       "    }\n",
       "\n",
       "    .dataframe tbody tr th {\n",
       "        vertical-align: top;\n",
       "    }\n",
       "\n",
       "    .dataframe thead th {\n",
       "        text-align: right;\n",
       "    }\n",
       "</style>\n",
       "<table border=\"1\" class=\"dataframe\">\n",
       "  <thead>\n",
       "    <tr style=\"text-align: right;\">\n",
       "      <th></th>\n",
       "      <th>caption</th>\n",
       "      <th>img</th>\n",
       "      <th>label</th>\n",
       "      <th>caption_embedding</th>\n",
       "    </tr>\n",
       "  </thead>\n",
       "  <tbody>\n",
       "    <tr>\n",
       "      <th>0</th>\n",
       "      <td>captions_resized_1M/cities_instagram/chicago/1...</td>\n",
       "      <td>img_resized_1M/cities_instagram/chicago/148202...</td>\n",
       "      <td>chicago</td>\n",
       "      <td>,0.38072692005564585,0.482761029263083,0.42480...</td>\n",
       "    </tr>\n",
       "    <tr>\n",
       "      <th>1</th>\n",
       "      <td>captions_resized_1M/cities_instagram/miami/148...</td>\n",
       "      <td>img_resized_1M/cities_instagram/miami/14898629...</td>\n",
       "      <td>miami</td>\n",
       "      <td>,0.4431235275782183,0.45451776316361425,0.3193...</td>\n",
       "    </tr>\n",
       "    <tr>\n",
       "      <th>2</th>\n",
       "      <td>captions_resized_1M/cities_instagram/london/14...</td>\n",
       "      <td>img_resized_1M/cities_instagram/london/1490670...</td>\n",
       "      <td>london</td>\n",
       "      <td>,0.33210418794562097,0.38874253433663797,0.549...</td>\n",
       "    </tr>\n",
       "    <tr>\n",
       "      <th>3</th>\n",
       "      <td>captions_resized_1M/cities_instagram/losangele...</td>\n",
       "      <td>img_resized_1M/cities_instagram/losangeles/149...</td>\n",
       "      <td>losangeles</td>\n",
       "      <td>,0.4553817188828261,0.38173804270409417,0.0820...</td>\n",
       "    </tr>\n",
       "    <tr>\n",
       "      <th>4</th>\n",
       "      <td>captions_resized_1M/cities_instagram/sydney/14...</td>\n",
       "      <td>img_resized_1M/cities_instagram/sydney/1480253...</td>\n",
       "      <td>sydney</td>\n",
       "      <td>,0.28686858187748865,0.5030648779167651,0.5735...</td>\n",
       "    </tr>\n",
       "  </tbody>\n",
       "</table>\n",
       "</div>"
      ],
      "text/plain": [
       "                                             caption  \\\n",
       "0  captions_resized_1M/cities_instagram/chicago/1...   \n",
       "1  captions_resized_1M/cities_instagram/miami/148...   \n",
       "2  captions_resized_1M/cities_instagram/london/14...   \n",
       "3  captions_resized_1M/cities_instagram/losangele...   \n",
       "4  captions_resized_1M/cities_instagram/sydney/14...   \n",
       "\n",
       "                                                 img       label  \\\n",
       "0  img_resized_1M/cities_instagram/chicago/148202...     chicago   \n",
       "1  img_resized_1M/cities_instagram/miami/14898629...       miami   \n",
       "2  img_resized_1M/cities_instagram/london/1490670...      london   \n",
       "3  img_resized_1M/cities_instagram/losangeles/149...  losangeles   \n",
       "4  img_resized_1M/cities_instagram/sydney/1480253...      sydney   \n",
       "\n",
       "                                   caption_embedding  \n",
       "0  ,0.38072692005564585,0.482761029263083,0.42480...  \n",
       "1  ,0.4431235275782183,0.45451776316361425,0.3193...  \n",
       "2  ,0.33210418794562097,0.38874253433663797,0.549...  \n",
       "3  ,0.4553817188828261,0.38173804270409417,0.0820...  \n",
       "4  ,0.28686858187748865,0.5030648779167651,0.5735...  "
      ]
     },
     "execution_count": 25,
     "metadata": {},
     "output_type": "execute_result"
    }
   ],
   "source": [
    "train_df.head()"
   ]
  },
  {
   "cell_type": "code",
   "execution_count": 26,
   "id": "7813d73f-d46c-4a37-9ddc-c219361ab8e9",
   "metadata": {},
   "outputs": [],
   "source": [
    "train_df.to_csv('train.csv',index=False)"
   ]
  },
  {
   "cell_type": "code",
   "execution_count": 27,
   "id": "5ed62809-5eec-4982-abf6-c7bdb8a69395",
   "metadata": {},
   "outputs": [],
   "source": [
    "test_df = pd.read_csv('test.csv')"
   ]
  },
  {
   "cell_type": "code",
   "execution_count": 28,
   "id": "9cd692f9-6b86-4cb5-80cd-73e195086a19",
   "metadata": {},
   "outputs": [],
   "source": [
    "test_df['caption_embedding'] = test_df['caption'].parallel_apply(caption_2_represention)"
   ]
  },
  {
   "cell_type": "code",
   "execution_count": 30,
   "id": "cd92fb12-65a2-4a3d-8ba6-7d8a3cbf9ab6",
   "metadata": {},
   "outputs": [],
   "source": [
    "test_df.to_csv('test.csv',index=False)"
   ]
  },
  {
   "cell_type": "code",
   "execution_count": 31,
   "id": "e8f64748-789e-4806-89f3-1bbbd8221768",
   "metadata": {},
   "outputs": [],
   "source": [
    "val_df = pd.read_csv('val.csv')"
   ]
  },
  {
   "cell_type": "code",
   "execution_count": 32,
   "id": "84a311a3-2254-482e-b698-2174d437366c",
   "metadata": {},
   "outputs": [],
   "source": [
    "val_df['caption_embedding'] = val_df['caption'].parallel_apply(caption_2_represention)"
   ]
  },
  {
   "cell_type": "code",
   "execution_count": 33,
   "id": "292a18f1-259f-43f1-9b79-d9c8eb0ea571",
   "metadata": {},
   "outputs": [],
   "source": [
    "val_df.to_csv('val.csv',index=False)"
   ]
  },
  {
   "cell_type": "code",
   "execution_count": 35,
   "id": "54df1c3a-63e8-4fe9-93e9-d329a5b851d4",
   "metadata": {},
   "outputs": [
    {
     "data": {
      "text/html": [
       "<div>\n",
       "<style scoped>\n",
       "    .dataframe tbody tr th:only-of-type {\n",
       "        vertical-align: middle;\n",
       "    }\n",
       "\n",
       "    .dataframe tbody tr th {\n",
       "        vertical-align: top;\n",
       "    }\n",
       "\n",
       "    .dataframe thead th {\n",
       "        text-align: right;\n",
       "    }\n",
       "</style>\n",
       "<table border=\"1\" class=\"dataframe\">\n",
       "  <thead>\n",
       "    <tr style=\"text-align: right;\">\n",
       "      <th></th>\n",
       "      <th>caption</th>\n",
       "      <th>img</th>\n",
       "      <th>label</th>\n",
       "      <th>caption_embedding</th>\n",
       "    </tr>\n",
       "  </thead>\n",
       "  <tbody>\n",
       "    <tr>\n",
       "      <th>0</th>\n",
       "      <td>captions_resized_1M/cities_instagram/chicago/1...</td>\n",
       "      <td>img_resized_1M/cities_instagram/chicago/149533...</td>\n",
       "      <td>chicago</td>\n",
       "      <td>,0.6664006476095762,0.4473309227578546,0.48012...</td>\n",
       "    </tr>\n",
       "    <tr>\n",
       "      <th>1</th>\n",
       "      <td>captions_resized_1M/cities_instagram/sanfranci...</td>\n",
       "      <td>img_resized_1M/cities_instagram/sanfrancisco/1...</td>\n",
       "      <td>sanfrancisco</td>\n",
       "      <td>,0.3293704904514245,0.5152873409369172,0.51827...</td>\n",
       "    </tr>\n",
       "    <tr>\n",
       "      <th>2</th>\n",
       "      <td>captions_resized_1M/cities_instagram/chicago/1...</td>\n",
       "      <td>img_resized_1M/cities_instagram/chicago/148201...</td>\n",
       "      <td>chicago</td>\n",
       "      <td>,0.2664918577084412,0.6018341612634897,0.67461...</td>\n",
       "    </tr>\n",
       "    <tr>\n",
       "      <th>3</th>\n",
       "      <td>captions_resized_1M/cities_instagram/sanfranci...</td>\n",
       "      <td>img_resized_1M/cities_instagram/sanfrancisco/1...</td>\n",
       "      <td>sanfrancisco</td>\n",
       "      <td>,0.3824586303841255,0.46444768090201566,0.6064...</td>\n",
       "    </tr>\n",
       "    <tr>\n",
       "      <th>4</th>\n",
       "      <td>captions_resized_1M/cities_instagram/sydney/14...</td>\n",
       "      <td>img_resized_1M/cities_instagram/sydney/1487239...</td>\n",
       "      <td>sydney</td>\n",
       "      <td>,0.41056553851094957,0.5116613575150174,0.5365...</td>\n",
       "    </tr>\n",
       "  </tbody>\n",
       "</table>\n",
       "</div>"
      ],
      "text/plain": [
       "                                             caption  \\\n",
       "0  captions_resized_1M/cities_instagram/chicago/1...   \n",
       "1  captions_resized_1M/cities_instagram/sanfranci...   \n",
       "2  captions_resized_1M/cities_instagram/chicago/1...   \n",
       "3  captions_resized_1M/cities_instagram/sanfranci...   \n",
       "4  captions_resized_1M/cities_instagram/sydney/14...   \n",
       "\n",
       "                                                 img         label  \\\n",
       "0  img_resized_1M/cities_instagram/chicago/149533...       chicago   \n",
       "1  img_resized_1M/cities_instagram/sanfrancisco/1...  sanfrancisco   \n",
       "2  img_resized_1M/cities_instagram/chicago/148201...       chicago   \n",
       "3  img_resized_1M/cities_instagram/sanfrancisco/1...  sanfrancisco   \n",
       "4  img_resized_1M/cities_instagram/sydney/1487239...        sydney   \n",
       "\n",
       "                                   caption_embedding  \n",
       "0  ,0.6664006476095762,0.4473309227578546,0.48012...  \n",
       "1  ,0.3293704904514245,0.5152873409369172,0.51827...  \n",
       "2  ,0.2664918577084412,0.6018341612634897,0.67461...  \n",
       "3  ,0.3824586303841255,0.46444768090201566,0.6064...  \n",
       "4  ,0.41056553851094957,0.5116613575150174,0.5365...  "
      ]
     },
     "execution_count": 35,
     "metadata": {},
     "output_type": "execute_result"
    }
   ],
   "source": [
    "val_df.head()"
   ]
  },
  {
   "cell_type": "code",
   "execution_count": null,
   "id": "77340480-251b-4354-b26e-2a73758cd300",
   "metadata": {},
   "outputs": [],
   "source": []
  }
 ],
 "metadata": {
  "kernelspec": {
   "display_name": "Python 3",
   "language": "python",
   "name": "python3"
  },
  "language_info": {
   "codemirror_mode": {
    "name": "ipython",
    "version": 3
   },
   "file_extension": ".py",
   "mimetype": "text/x-python",
   "name": "python",
   "nbconvert_exporter": "python",
   "pygments_lexer": "ipython3",
   "version": "3.8.5"
  }
 },
 "nbformat": 4,
 "nbformat_minor": 5
}
