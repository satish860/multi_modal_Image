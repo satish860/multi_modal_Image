{
 "cells": [
  {
   "cell_type": "code",
   "execution_count": 1,
   "id": "0a431fd2-f43d-4876-83f2-ffa4c5f9fb76",
   "metadata": {},
   "outputs": [],
   "source": [
    "import pandas as pd"
   ]
  },
  {
   "cell_type": "code",
   "execution_count": 2,
   "id": "cb4c7180-3415-4aba-a525-2afb508f2c44",
   "metadata": {},
   "outputs": [
    {
     "name": "stdout",
     "output_type": "stream",
     "text": [
      "Collecting pandarallel\n",
      "  Downloading pandarallel-1.5.2.tar.gz (16 kB)\n",
      "Requirement already satisfied: dill in /opt/conda/lib/python3.8/site-packages (from pandarallel) (0.3.3)\n",
      "Building wheels for collected packages: pandarallel\n",
      "  Building wheel for pandarallel (setup.py) ... \u001b[?25ldone\n",
      "\u001b[?25h  Created wheel for pandarallel: filename=pandarallel-1.5.2-py3-none-any.whl size=18384 sha256=222a6b0da117bdfb314b5b91245826ea59ab1d9204620301f13a9ec2a79247b0\n",
      "  Stored in directory: /home/.cache/pip/wheels/37/f8/ca/195b0c87ec47a501d111d1a8e2f23324f46d7d98461cf0d334\n",
      "Successfully built pandarallel\n",
      "Installing collected packages: pandarallel\n",
      "Successfully installed pandarallel-1.5.2\n",
      "\u001b[33mWARNING: Running pip as root will break packages and permissions. You should install packages reliably by using venv: https://pip.pypa.io/warnings/venv\u001b[0m\n",
      "\u001b[33mWARNING: You are using pip version 21.1.1; however, version 21.1.2 is available.\n",
      "You should consider upgrading via the '/opt/conda/bin/python -m pip install --upgrade pip' command.\u001b[0m\n"
     ]
    }
   ],
   "source": [
    "! pip install pandarallel"
   ]
  },
  {
   "cell_type": "code",
   "execution_count": 18,
   "id": "19777958-b8a7-4bbb-83ab-b559267b1b4a",
   "metadata": {},
   "outputs": [
    {
     "name": "stdout",
     "output_type": "stream",
     "text": [
      "INFO: Pandarallel will run on 64 workers.\n",
      "INFO: Pandarallel will use Memory file system to transfer data between the main process and workers.\n"
     ]
    }
   ],
   "source": [
    "from pandarallel import pandarallel\n",
    "pandarallel.initialize()"
   ]
  },
  {
   "cell_type": "code",
   "execution_count": 5,
   "id": "ee68abb9-4dbf-4921-9817-8cc1f6dcd220",
   "metadata": {},
   "outputs": [],
   "source": [
    "df = pd.read_csv('data.csv',index_col=0)"
   ]
  },
  {
   "cell_type": "code",
   "execution_count": 12,
   "id": "3cf437db-ab10-4ec4-8c96-6a6f49b80b5c",
   "metadata": {},
   "outputs": [],
   "source": [
    "trial=df['caption'][0]"
   ]
  },
  {
   "cell_type": "code",
   "execution_count": 14,
   "id": "eef3682d-df90-4f55-9943-ca5833ed44c7",
   "metadata": {},
   "outputs": [
    {
     "data": {
      "text/plain": [
       "'melbourne'"
      ]
     },
     "execution_count": 14,
     "metadata": {},
     "output_type": "execute_result"
    }
   ],
   "source": [
    "value=trial.split(\"/\")\n",
    "value[2]"
   ]
  },
  {
   "cell_type": "code",
   "execution_count": 15,
   "id": "238a1e0d-9e06-49c7-9a7f-712bf4b01490",
   "metadata": {},
   "outputs": [],
   "source": [
    "def captions_2_label(caption):\n",
    "    captionSplit = caption.split(\"/\")\n",
    "    return captionSplit[2]"
   ]
  },
  {
   "cell_type": "code",
   "execution_count": 20,
   "id": "467a9066-fdec-4540-8490-ea5a487403bd",
   "metadata": {},
   "outputs": [
    {
     "name": "stdout",
     "output_type": "stream",
     "text": [
      "CPU times: user 483 ms, sys: 1.15 s, total: 1.64 s\n",
      "Wall time: 1.97 s\n"
     ]
    }
   ],
   "source": [
    "%%time\n",
    "df['label'] = df['caption'].parallel_apply(captions_2_label)"
   ]
  },
  {
   "cell_type": "code",
   "execution_count": 47,
   "id": "76bbb9c4-914a-43e3-b0b8-b8e771f0f289",
   "metadata": {},
   "outputs": [
    {
     "data": {
      "text/html": [
       "<div>\n",
       "<style scoped>\n",
       "    .dataframe tbody tr th:only-of-type {\n",
       "        vertical-align: middle;\n",
       "    }\n",
       "\n",
       "    .dataframe tbody tr th {\n",
       "        vertical-align: top;\n",
       "    }\n",
       "\n",
       "    .dataframe thead th {\n",
       "        text-align: right;\n",
       "    }\n",
       "</style>\n",
       "<table border=\"1\" class=\"dataframe\">\n",
       "  <thead>\n",
       "    <tr style=\"text-align: right;\">\n",
       "      <th></th>\n",
       "      <th>caption</th>\n",
       "      <th>img</th>\n",
       "      <th>label</th>\n",
       "    </tr>\n",
       "  </thead>\n",
       "  <tbody>\n",
       "    <tr>\n",
       "      <th>0</th>\n",
       "      <td>captions_resized_1M/cities_instagram/melbourne...</td>\n",
       "      <td>img_resized_1M/cities_instagram/melbourne/1486...</td>\n",
       "      <td>melbourne</td>\n",
       "    </tr>\n",
       "    <tr>\n",
       "      <th>1</th>\n",
       "      <td>captions_resized_1M/cities_instagram/melbourne...</td>\n",
       "      <td>img_resized_1M/cities_instagram/melbourne/1487...</td>\n",
       "      <td>melbourne</td>\n",
       "    </tr>\n",
       "    <tr>\n",
       "      <th>2</th>\n",
       "      <td>captions_resized_1M/cities_instagram/melbourne...</td>\n",
       "      <td>img_resized_1M/cities_instagram/melbourne/1482...</td>\n",
       "      <td>melbourne</td>\n",
       "    </tr>\n",
       "    <tr>\n",
       "      <th>3</th>\n",
       "      <td>captions_resized_1M/cities_instagram/melbourne...</td>\n",
       "      <td>img_resized_1M/cities_instagram/melbourne/1490...</td>\n",
       "      <td>melbourne</td>\n",
       "    </tr>\n",
       "    <tr>\n",
       "      <th>4</th>\n",
       "      <td>captions_resized_1M/cities_instagram/melbourne...</td>\n",
       "      <td>img_resized_1M/cities_instagram/melbourne/1490...</td>\n",
       "      <td>melbourne</td>\n",
       "    </tr>\n",
       "  </tbody>\n",
       "</table>\n",
       "</div>"
      ],
      "text/plain": [
       "                                             caption  \\\n",
       "0  captions_resized_1M/cities_instagram/melbourne...   \n",
       "1  captions_resized_1M/cities_instagram/melbourne...   \n",
       "2  captions_resized_1M/cities_instagram/melbourne...   \n",
       "3  captions_resized_1M/cities_instagram/melbourne...   \n",
       "4  captions_resized_1M/cities_instagram/melbourne...   \n",
       "\n",
       "                                                 img      label  \n",
       "0  img_resized_1M/cities_instagram/melbourne/1486...  melbourne  \n",
       "1  img_resized_1M/cities_instagram/melbourne/1487...  melbourne  \n",
       "2  img_resized_1M/cities_instagram/melbourne/1482...  melbourne  \n",
       "3  img_resized_1M/cities_instagram/melbourne/1490...  melbourne  \n",
       "4  img_resized_1M/cities_instagram/melbourne/1490...  melbourne  "
      ]
     },
     "execution_count": 47,
     "metadata": {},
     "output_type": "execute_result"
    }
   ],
   "source": [
    "df.head()"
   ]
  },
  {
   "cell_type": "code",
   "execution_count": 48,
   "id": "0fdbdd01-54eb-48d2-a70a-98c83a39fd24",
   "metadata": {},
   "outputs": [],
   "source": [
    "df=df.fillna(0)"
   ]
  },
  {
   "cell_type": "code",
   "execution_count": 49,
   "id": "1e2a8da3-6d8b-465a-8f27-0c944e215df2",
   "metadata": {},
   "outputs": [],
   "source": [
    "y = df['label']"
   ]
  },
  {
   "cell_type": "code",
   "execution_count": 50,
   "id": "9c4ca93f-2def-4239-a5ae-141741cc9847",
   "metadata": {},
   "outputs": [],
   "source": [
    "x = df.fillna(0)"
   ]
  },
  {
   "cell_type": "code",
   "execution_count": 51,
   "id": "12996442-9b8d-4c7f-98cc-420abdcbb64d",
   "metadata": {},
   "outputs": [],
   "source": [
    "from sklearn.model_selection import train_test_split"
   ]
  },
  {
   "cell_type": "code",
   "execution_count": 52,
   "id": "667f220d-1479-4274-aeaf-81200b6a5716",
   "metadata": {},
   "outputs": [],
   "source": [
    "x_train, x_test, y_train, y_test = train_test_split(x,y,\n",
    "                                                    test_size=0.2,\n",
    "                                                    random_state=42,\n",
    "                                                    stratify=y)"
   ]
  },
  {
   "cell_type": "code",
   "execution_count": 55,
   "id": "7d2bc567-89e4-499f-b76f-5d5a63d1bec5",
   "metadata": {},
   "outputs": [
    {
     "data": {
      "text/plain": [
       "800000"
      ]
     },
     "execution_count": 55,
     "metadata": {},
     "output_type": "execute_result"
    }
   ],
   "source": [
    "len(y_train)"
   ]
  },
  {
   "cell_type": "code",
   "execution_count": 56,
   "id": "6f12ee8f-c98f-46c5-923e-7d39213e8e49",
   "metadata": {},
   "outputs": [],
   "source": [
    "x_train.to_csv('train.csv')"
   ]
  },
  {
   "cell_type": "code",
   "execution_count": 43,
   "id": "9067de44-b03d-4195-bd1b-ab7d5ccdaa9f",
   "metadata": {},
   "outputs": [
    {
     "data": {
      "text/html": [
       "<div>\n",
       "<style scoped>\n",
       "    .dataframe tbody tr th:only-of-type {\n",
       "        vertical-align: middle;\n",
       "    }\n",
       "\n",
       "    .dataframe tbody tr th {\n",
       "        vertical-align: top;\n",
       "    }\n",
       "\n",
       "    .dataframe thead th {\n",
       "        text-align: right;\n",
       "    }\n",
       "</style>\n",
       "<table border=\"1\" class=\"dataframe\">\n",
       "  <thead>\n",
       "    <tr style=\"text-align: right;\">\n",
       "      <th></th>\n",
       "      <th>caption</th>\n",
       "      <th>img</th>\n",
       "      <th>label</th>\n",
       "    </tr>\n",
       "  </thead>\n",
       "  <tbody>\n",
       "    <tr>\n",
       "      <th>189466</th>\n",
       "      <td>captions_resized_1M/cities_instagram/toronto/1...</td>\n",
       "      <td>img_resized_1M/cities_instagram/toronto/148240...</td>\n",
       "      <td>toronto</td>\n",
       "    </tr>\n",
       "    <tr>\n",
       "      <th>480489</th>\n",
       "      <td>captions_resized_1M/cities_instagram/newyork/1...</td>\n",
       "      <td>img_resized_1M/cities_instagram/newyork/148980...</td>\n",
       "      <td>newyork</td>\n",
       "    </tr>\n",
       "    <tr>\n",
       "      <th>858092</th>\n",
       "      <td>captions_resized_1M/cities_instagram/losangele...</td>\n",
       "      <td>img_resized_1M/cities_instagram/losangeles/148...</td>\n",
       "      <td>losangeles</td>\n",
       "    </tr>\n",
       "    <tr>\n",
       "      <th>35259</th>\n",
       "      <td>captions_resized_1M/cities_instagram/melbourne...</td>\n",
       "      <td>img_resized_1M/cities_instagram/melbourne/1489...</td>\n",
       "      <td>melbourne</td>\n",
       "    </tr>\n",
       "    <tr>\n",
       "      <th>856479</th>\n",
       "      <td>captions_resized_1M/cities_instagram/losangele...</td>\n",
       "      <td>img_resized_1M/cities_instagram/losangeles/149...</td>\n",
       "      <td>losangeles</td>\n",
       "    </tr>\n",
       "  </tbody>\n",
       "</table>\n",
       "</div>"
      ],
      "text/plain": [
       "                                                  caption  \\\n",
       "189466  captions_resized_1M/cities_instagram/toronto/1...   \n",
       "480489  captions_resized_1M/cities_instagram/newyork/1...   \n",
       "858092  captions_resized_1M/cities_instagram/losangele...   \n",
       "35259   captions_resized_1M/cities_instagram/melbourne...   \n",
       "856479  captions_resized_1M/cities_instagram/losangele...   \n",
       "\n",
       "                                                      img       label  \n",
       "189466  img_resized_1M/cities_instagram/toronto/148240...     toronto  \n",
       "480489  img_resized_1M/cities_instagram/newyork/148980...     newyork  \n",
       "858092  img_resized_1M/cities_instagram/losangeles/148...  losangeles  \n",
       "35259   img_resized_1M/cities_instagram/melbourne/1489...   melbourne  \n",
       "856479  img_resized_1M/cities_instagram/losangeles/149...  losangeles  "
      ]
     },
     "execution_count": 43,
     "metadata": {},
     "output_type": "execute_result"
    }
   ],
   "source": [
    "x_test.head()"
   ]
  },
  {
   "cell_type": "code",
   "execution_count": 63,
   "id": "d9e60ead-89bf-467f-9061-a5d5180a9120",
   "metadata": {},
   "outputs": [],
   "source": [
    "test_x,val_x,test_y,val_y = train_test_split(x_test,y_test,\n",
    "                                                    test_size=0.3,\n",
    "                                                    random_state=42,\n",
    "                                                    stratify=y_test)"
   ]
  },
  {
   "cell_type": "code",
   "execution_count": 64,
   "id": "f5dddef2-f2a9-4a25-9b15-91e0db699ce3",
   "metadata": {},
   "outputs": [
    {
     "data": {
      "text/plain": [
       "60000"
      ]
     },
     "execution_count": 64,
     "metadata": {},
     "output_type": "execute_result"
    }
   ],
   "source": [
    "len(val_x)"
   ]
  },
  {
   "cell_type": "code",
   "execution_count": 65,
   "id": "1958171b-1071-44d6-b9b6-722a4e69e46b",
   "metadata": {},
   "outputs": [],
   "source": [
    "test_x.to_csv(\"test.csv\")"
   ]
  },
  {
   "cell_type": "code",
   "execution_count": 66,
   "id": "c7fdc444-881d-4447-8dd2-f436430e06f4",
   "metadata": {},
   "outputs": [],
   "source": [
    "val_x.to_csv(\"val.csv\")"
   ]
  },
  {
   "cell_type": "code",
   "execution_count": null,
   "id": "80e2e429-c637-40f6-9999-897ab7e4b40d",
   "metadata": {},
   "outputs": [],
   "source": []
  }
 ],
 "metadata": {
  "kernelspec": {
   "display_name": "Python 3",
   "language": "python",
   "name": "python3"
  },
  "language_info": {
   "codemirror_mode": {
    "name": "ipython",
    "version": 3
   },
   "file_extension": ".py",
   "mimetype": "text/x-python",
   "name": "python",
   "nbconvert_exporter": "python",
   "pygments_lexer": "ipython3",
   "version": "3.8.5"
  }
 },
 "nbformat": 4,
 "nbformat_minor": 5
}
