{
 "cells": [
  {
   "cell_type": "code",
   "execution_count": 3,
   "id": "ac56ac02-3a20-4277-807b-0bafde1f1196",
   "metadata": {},
   "outputs": [],
   "source": [
    "import io"
   ]
  },
  {
   "cell_type": "code",
   "execution_count": 1,
   "id": "fad70887-753a-4b7f-9c4a-df7401850e65",
   "metadata": {},
   "outputs": [],
   "source": [
    "import os\n",
    "listofCities=os.listdir('captions_resized_1M/cities_instagram/')"
   ]
  },
  {
   "cell_type": "code",
   "execution_count": 4,
   "id": "f2b15917-345a-444e-96b0-9978ad1d7cd4",
   "metadata": {},
   "outputs": [],
   "source": [
    "def getfiles(city):\n",
    "    for root, dirs, files in os.walk(\"captions_resized_1M/cities_instagram/melbourne/\"):\n",
    "        for file in files:\n",
    "            if file.endswith(\".txt\"):\n",
    "                yield os.path.join(root, file)"
   ]
  },
  {
   "cell_type": "code",
   "execution_count": 5,
   "id": "659b632a-3901-4e43-8684-f917d1a41bb7",
   "metadata": {},
   "outputs": [],
   "source": [
    "fileList = [getfiles(x) for x in listofCities]"
   ]
  },
  {
   "cell_type": "code",
   "execution_count": 6,
   "id": "a4b45cfa-b60a-4986-917a-0a790622b535",
   "metadata": {},
   "outputs": [],
   "source": [
    "filecollection = []"
   ]
  },
  {
   "cell_type": "code",
   "execution_count": 7,
   "id": "501d1e6f-3db8-4d35-9ab6-74dc897029d6",
   "metadata": {},
   "outputs": [],
   "source": [
    "for files in fileList:\n",
    "    for file in files:\n",
    "        filecollection.append(file)"
   ]
  },
  {
   "cell_type": "code",
   "execution_count": 14,
   "id": "c2f8b42e-5657-4660-86ad-5fca913082ad",
   "metadata": {},
   "outputs": [],
   "source": [
    "count=0"
   ]
  },
  {
   "cell_type": "code",
   "execution_count": 9,
   "id": "20994f70-c343-41e3-9fd2-d4bebfda5f91",
   "metadata": {},
   "outputs": [],
   "source": [
    "from gensim.parsing.preprocessing import remove_stopwords, preprocess_string,strip_non_alphanum,strip_numeric"
   ]
  },
  {
   "cell_type": "code",
   "execution_count": 18,
   "id": "f6c9acda-6983-4bf1-823d-e9d676121b82",
   "metadata": {},
   "outputs": [],
   "source": [
    "class MyCorpus:\n",
    "    \"\"\"An iterator that yields sentences (lists of str).\"\"\"\n",
    "\n",
    "    def __iter__(self):\n",
    "        for file in filecollection:\n",
    "            for line in open(f'{file}'):\n",
    "                CUSTOM_FILTERS = [lambda x: x.lower(), remove_stopwords, strip_non_alphanum,strip_numeric]\n",
    "                yield preprocess_string(line,CUSTOM_FILTERS)"
   ]
  },
  {
   "cell_type": "code",
   "execution_count": 19,
   "id": "43778c9e-9f25-499e-9cd9-74b702f62ea5",
   "metadata": {},
   "outputs": [],
   "source": [
    "import gensim.models"
   ]
  },
  {
   "cell_type": "code",
   "execution_count": 20,
   "id": "7fb54470-e949-491d-93c4-f2c422c7b4ab",
   "metadata": {},
   "outputs": [],
   "source": [
    "sentences = MyCorpus()\n",
    "model = gensim.models.Word2Vec(sentences=sentences,min_count=6,vector_size=300,epochs=1,compute_loss=True,)"
   ]
  },
  {
   "cell_type": "code",
   "execution_count": 26,
   "id": "e2e9025e-dc62-4647-bd8d-886a11f4d32e",
   "metadata": {},
   "outputs": [],
   "source": [
    "instawv=model.wv"
   ]
  },
  {
   "cell_type": "code",
   "execution_count": 23,
   "id": "265ae50f-e98f-45a2-a981-685b81a9619f",
   "metadata": {},
   "outputs": [],
   "source": [
    "import gensim.downloader as api"
   ]
  },
  {
   "cell_type": "code",
   "execution_count": 24,
   "id": "ba23bbd3-252a-419c-9424-97eddc1f7c0d",
   "metadata": {},
   "outputs": [],
   "source": [
    "wv = api.load('word2vec-google-news-300')"
   ]
  },
  {
   "cell_type": "code",
   "execution_count": 39,
   "id": "e4eabd53-8f49-4250-9eec-86242358ceb7",
   "metadata": {},
   "outputs": [
    {
     "data": {
      "text/plain": [
       "[('glad', 0.5868960618972778),\n",
       " ('friends', 0.5795018076896667),\n",
       " ('thankful', 0.5692970156669617),\n",
       " ('Said_Hirschbeck', 0.567206859588623),\n",
       " ('fam_ily', 0.5586037635803223),\n",
       " ('safe_Arlene_Deche', 0.5543298125267029),\n",
       " ('famiy', 0.5417208671569824),\n",
       " ('overjoyed', 0.5413351655006409),\n",
       " ('Our_heartfelt_sympathies', 0.540878415107727),\n",
       " ('Alyrio', 0.5385825037956238)]"
      ]
     },
     "execution_count": 39,
     "metadata": {},
     "output_type": "execute_result"
    }
   ],
   "source": [
    "wv.most_similar(positive=[\"happy\",\"family\"])"
   ]
  },
  {
   "cell_type": "code",
   "execution_count": 40,
   "id": "06f1cd59-822e-46ef-a243-e8e3ea108b1e",
   "metadata": {},
   "outputs": [
    {
     "data": {
      "text/plain": [
       "[('friendship', 0.7458023428916931),\n",
       " ('sisters', 0.7338704466819763),\n",
       " ('blessed', 0.7156748175621033),\n",
       " ('thankful', 0.7124142646789551),\n",
       " ('boyfriend', 0.704055905342102),\n",
       " ('bestie', 0.6954656839370728),\n",
       " ('besties', 0.6877531409263611),\n",
       " ('grateful', 0.6827171444892883),\n",
       " ('cousins', 0.6746582984924316),\n",
       " ('mum', 0.6739627122879028)]"
      ]
     },
     "execution_count": 40,
     "metadata": {},
     "output_type": "execute_result"
    }
   ],
   "source": [
    "instawv.most_similar(positive=[\"happy\",\"family\"])"
   ]
  },
  {
   "cell_type": "code",
   "execution_count": null,
   "id": "17803b5d-7fe5-44a2-9c67-fb902c06288e",
   "metadata": {},
   "outputs": [],
   "source": []
  }
 ],
 "metadata": {
  "kernelspec": {
   "display_name": "Python 3",
   "language": "python",
   "name": "python3"
  },
  "language_info": {
   "codemirror_mode": {
    "name": "ipython",
    "version": 3
   },
   "file_extension": ".py",
   "mimetype": "text/x-python",
   "name": "python",
   "nbconvert_exporter": "python",
   "pygments_lexer": "ipython3",
   "version": "3.8.5"
  }
 },
 "nbformat": 4,
 "nbformat_minor": 5
}
